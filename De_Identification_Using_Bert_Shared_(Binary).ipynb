{
  "nbformat": 4,
  "nbformat_minor": 0,
  "metadata": {
    "colab": {
      "name": " De-Identification Using Bert, Shared (Binary).ipynb",
      "version": "0.3.2",
      "provenance": [],
      "collapsed_sections": [],
      "toc_visible": true,
      "machine_shape": "hm"
    },
    "kernelspec": {
      "name": "python3",
      "display_name": "Python 3"
    },
    "accelerator": "TPU"
  },
  "cells": [
    {
      "cell_type": "markdown",
      "metadata": {
        "id": "a4Hw4aOBsECR",
        "colab_type": "text"
      },
      "source": [
        "# Setup\n",
        "based on https://colab.research.google.com/github/tensorflow/tpu/blob/master/tools/colab/bert_finetuning_with_cloud_tpus.ipynb#scrollTo=191zq3ZErihP"
      ]
    },
    {
      "cell_type": "code",
      "metadata": {
        "id": "Q-h6Nk0WsICS",
        "colab_type": "code",
        "outputId": "1a438550-6891-4e60-dfb8-8095306e7d0f",
        "colab": {
          "base_uri": "https://localhost:8080/",
          "height": 394
        }
      },
      "source": [
        "import datetime\n",
        "import json\n",
        "import os\n",
        "import pprint\n",
        "import random\n",
        "import string\n",
        "import sys\n",
        "import tensorflow as tf\n",
        "\n",
        "assert 'COLAB_TPU_ADDR' in os.environ, 'ERROR: Not connected to a TPU runtime; please see the first cell in this notebook for instructions!'\n",
        "TPU_ADDRESS = 'grpc://' + os.environ['COLAB_TPU_ADDR']\n",
        "print('TPU address is', TPU_ADDRESS)\n",
        "\n",
        "from google.colab import auth\n",
        "auth.authenticate_user()\n",
        "with tf.Session(TPU_ADDRESS) as session:\n",
        "  print('TPU devices:')\n",
        "  pprint.pprint(session.list_devices())\n",
        "\n",
        "  # Upload credentials to TPU.\n",
        "  with open('/content/adc.json', 'r') as f:\n",
        "    auth_info = json.load(f)\n",
        "  tf.contrib.cloud.configure_gcs(session, credentials=auth_info)\n",
        "  # Now credentials are set for all future sessions on this TPU."
      ],
      "execution_count": 0,
      "outputs": [
        {
          "output_type": "stream",
          "text": [
            "TPU address is grpc://10.108.13.194:8470\n",
            "TPU devices:\n",
            "[_DeviceAttributes(/job:tpu_worker/replica:0/task:0/device:CPU:0, CPU, -1, 861201113876687645),\n",
            " _DeviceAttributes(/job:tpu_worker/replica:0/task:0/device:XLA_CPU:0, XLA_CPU, 17179869184, 7509863777384350548),\n",
            " _DeviceAttributes(/job:tpu_worker/replica:0/task:0/device:TPU:0, TPU, 17179869184, 10957324747785543829),\n",
            " _DeviceAttributes(/job:tpu_worker/replica:0/task:0/device:TPU:1, TPU, 17179869184, 16010609198301123736),\n",
            " _DeviceAttributes(/job:tpu_worker/replica:0/task:0/device:TPU:2, TPU, 17179869184, 15642925627654617544),\n",
            " _DeviceAttributes(/job:tpu_worker/replica:0/task:0/device:TPU:3, TPU, 17179869184, 202491004858483873),\n",
            " _DeviceAttributes(/job:tpu_worker/replica:0/task:0/device:TPU:4, TPU, 17179869184, 7185590080412384499),\n",
            " _DeviceAttributes(/job:tpu_worker/replica:0/task:0/device:TPU:5, TPU, 17179869184, 9450033752344641433),\n",
            " _DeviceAttributes(/job:tpu_worker/replica:0/task:0/device:TPU:6, TPU, 17179869184, 5937089048049227403),\n",
            " _DeviceAttributes(/job:tpu_worker/replica:0/task:0/device:TPU:7, TPU, 17179869184, 16704279036719683882),\n",
            " _DeviceAttributes(/job:tpu_worker/replica:0/task:0/device:TPU_SYSTEM:0, TPU_SYSTEM, 8589934592, 1360056868896268412)]\n"
          ],
          "name": "stdout"
        },
        {
          "output_type": "stream",
          "text": [
            "WARNING: Logging before flag parsing goes to stderr.\n",
            "W0802 06:36:28.714955 140462451693440 lazy_loader.py:50] \n",
            "The TensorFlow contrib module will not be included in TensorFlow 2.0.\n",
            "For more information, please see:\n",
            "  * https://github.com/tensorflow/community/blob/master/rfcs/20180907-contrib-sunset.md\n",
            "  * https://github.com/tensorflow/addons\n",
            "  * https://github.com/tensorflow/io (for I/O related ops)\n",
            "If you depend on functionality not listed there, please file an issue.\n",
            "\n"
          ],
          "name": "stderr"
        }
      ]
    },
    {
      "cell_type": "markdown",
      "metadata": {
        "id": "F8Dxp0OwI_9X",
        "colab_type": "text"
      },
      "source": [
        "# Data Ingestion\n"
      ]
    },
    {
      "cell_type": "markdown",
      "metadata": {
        "id": "-eqCtk6_OBt3",
        "colab_type": "text"
      },
      "source": [
        "## Data Preparation"
      ]
    },
    {
      "cell_type": "code",
      "metadata": {
        "id": "SFwSCJIsJFkB",
        "colab_type": "code",
        "outputId": "4ae1385e-5993-4e84-cb81-42eb3c7de6c8",
        "colab": {
          "base_uri": "https://localhost:8080/",
          "height": 51
        }
      },
      "source": [
        "#This file is written to ingest data from i2b2\n",
        "#below are the requried library\n",
        "from xml.dom import minidom # need this to read xlm files\n",
        "import xml.etree.ElementTree as ET\n",
        "import os\n",
        "import pandas as pd\n",
        "import random\n",
        "import nltk\n",
        "import string\n",
        "from sklearn.preprocessing import LabelEncoder\n",
        "from pandas import DataFrame\n",
        "import nltk.data\n",
        "from nltk import sent_tokenize\n",
        "nltk.download('punkt') #this package needs to be downloaded separately\n",
        "from sklearn.preprocessing import LabelEncoder\n",
        "from sklearn.model_selection import train_test_split\n",
        "from pandas import DataFrame\n",
        "import re\n",
        "import numpy as np"
      ],
      "execution_count": 0,
      "outputs": [
        {
          "output_type": "stream",
          "text": [
            "[nltk_data] Downloading package punkt to /root/nltk_data...\n",
            "[nltk_data]   Package punkt is already up-to-date!\n"
          ],
          "name": "stdout"
        }
      ]
    },
    {
      "cell_type": "markdown",
      "metadata": {
        "id": "1tSyXkHRwdPZ",
        "colab_type": "text"
      },
      "source": [
        "### GDrive Setup"
      ]
    },
    {
      "cell_type": "markdown",
      "metadata": {
        "id": "gsap3HvwNtrA",
        "colab_type": "text"
      },
      "source": [
        "We first mount the google drive containing the training and test fiels"
      ]
    },
    {
      "cell_type": "code",
      "metadata": {
        "id": "0dp7AABnNcce",
        "colab_type": "code",
        "outputId": "778685a3-370c-486a-96bb-0a6eedb9d3b2",
        "colab": {
          "base_uri": "https://localhost:8080/",
          "height": 51
        }
      },
      "source": [
        "from google.colab import drive # this sets the file path to your personal google drive. You will need to enter the authorization code each time. \n",
        "drive.mount('/gdrive')\n",
        "%cd /gdrive"
      ],
      "execution_count": 0,
      "outputs": [
        {
          "output_type": "stream",
          "text": [
            "Drive already mounted at /gdrive; to attempt to forcibly remount, call drive.mount(\"/gdrive\", force_remount=True).\n",
            "/gdrive\n"
          ],
          "name": "stdout"
        }
      ]
    },
    {
      "cell_type": "markdown",
      "metadata": {
        "id": "VCX9KxgT2zy7",
        "colab_type": "text"
      },
      "source": [
        "## Creating List of Files to be Ingested"
      ]
    },
    {
      "cell_type": "markdown",
      "metadata": {
        "id": "Hqr9iRr1N1h0",
        "colab_type": "text"
      },
      "source": [
        "We then created two list - each contains the list of the file names for training and testing.\n",
        "\n",
        "1.   train_filelist = 790 EHR records\n",
        "2.   test_filelist=514 EHR records\n",
        "\n"
      ]
    },
    {
      "cell_type": "code",
      "metadata": {
        "id": "lMonhsbPNgDi",
        "colab_type": "code",
        "outputId": "2ef2193e-8937-4632-cfdb-d1ef17402b8f",
        "colab": {
          "base_uri": "https://localhost:8080/",
          "height": 71
        }
      },
      "source": [
        "# data processing created with the help of teaching assistant Sudha Subramanian, who previously worked with the same dataset\n",
        "\n",
        "train_filelist=[]\n",
        "\n",
        "for file in os.listdir('/gdrive/My Drive/w266_NLP/training-PHI'):#set your file path here\n",
        "  filename = os.fsdecode(os.fsencode('/gdrive/My Drive/w266_NLP/training-PHI/'+file))\n",
        "  if filename.endswith( ('.xml') ): # select xml files\n",
        "    train_filelist.append(filename)\n",
        "\n",
        "print(\"There are {} training file\".format(len(train_filelist))) #check that the number of training file is 790 records for 178 patients\n",
        "print(train_filelist)"
      ],
      "execution_count": 0,
      "outputs": [
        {
          "output_type": "stream",
          "text": [
            "There are 790 training file\n",
            "['/gdrive/My Drive/w266_NLP/training-PHI/100-01.xml', '/gdrive/My Drive/w266_NLP/training-PHI/100-05.xml', '/gdrive/My Drive/w266_NLP/training-PHI/100-02.xml', '/gdrive/My Drive/w266_NLP/training-PHI/100-04.xml', '/gdrive/My Drive/w266_NLP/training-PHI/100-03.xml', '/gdrive/My Drive/w266_NLP/training-PHI/101-03.xml', '/gdrive/My Drive/w266_NLP/training-PHI/101-02.xml', '/gdrive/My Drive/w266_NLP/training-PHI/101-01.xml', '/gdrive/My Drive/w266_NLP/training-PHI/102-01.xml', '/gdrive/My Drive/w266_NLP/training-PHI/102-02.xml', '/gdrive/My Drive/w266_NLP/training-PHI/102-03.xml', '/gdrive/My Drive/w266_NLP/training-PHI/103-01.xml', '/gdrive/My Drive/w266_NLP/training-PHI/104-02.xml', '/gdrive/My Drive/w266_NLP/training-PHI/103-02.xml', '/gdrive/My Drive/w266_NLP/training-PHI/104-01.xml', '/gdrive/My Drive/w266_NLP/training-PHI/102-04.xml', '/gdrive/My Drive/w266_NLP/training-PHI/103-04.xml', '/gdrive/My Drive/w266_NLP/training-PHI/104-03.xml', '/gdrive/My Drive/w266_NLP/training-PHI/103-03.xml', '/gdrive/My Drive/w266_NLP/training-PHI/102-05.xml', '/gdrive/My Drive/w266_NLP/training-PHI/104-04.xml', '/gdrive/My Drive/w266_NLP/training-PHI/106-01.xml', '/gdrive/My Drive/w266_NLP/training-PHI/105-03.xml', '/gdrive/My Drive/w266_NLP/training-PHI/105-05.xml', '/gdrive/My Drive/w266_NLP/training-PHI/105-02.xml', '/gdrive/My Drive/w266_NLP/training-PHI/105-04.xml', '/gdrive/My Drive/w266_NLP/training-PHI/106-02.xml', '/gdrive/My Drive/w266_NLP/training-PHI/105-01.xml', '/gdrive/My Drive/w266_NLP/training-PHI/106-03.xml', '/gdrive/My Drive/w266_NLP/training-PHI/106-04.xml', '/gdrive/My Drive/w266_NLP/training-PHI/106-05.xml', '/gdrive/My Drive/w266_NLP/training-PHI/108-03.xml', '/gdrive/My Drive/w266_NLP/training-PHI/107-02.xml', '/gdrive/My Drive/w266_NLP/training-PHI/107-04.xml', '/gdrive/My Drive/w266_NLP/training-PHI/108-04.xml', '/gdrive/My Drive/w266_NLP/training-PHI/109-01.xml', '/gdrive/My Drive/w266_NLP/training-PHI/107-03.xml', '/gdrive/My Drive/w266_NLP/training-PHI/107-01.xml', '/gdrive/My Drive/w266_NLP/training-PHI/108-01.xml', '/gdrive/My Drive/w266_NLP/training-PHI/108-02.xml', '/gdrive/My Drive/w266_NLP/training-PHI/109-02.xml', '/gdrive/My Drive/w266_NLP/training-PHI/121-01.xml', '/gdrive/My Drive/w266_NLP/training-PHI/120-03.xml', '/gdrive/My Drive/w266_NLP/training-PHI/109-03.xml', '/gdrive/My Drive/w266_NLP/training-PHI/121-02.xml', '/gdrive/My Drive/w266_NLP/training-PHI/120-04.xml', '/gdrive/My Drive/w266_NLP/training-PHI/109-04.xml', '/gdrive/My Drive/w266_NLP/training-PHI/120-01.xml', '/gdrive/My Drive/w266_NLP/training-PHI/120-02.xml', '/gdrive/My Drive/w266_NLP/training-PHI/120-05.xml', '/gdrive/My Drive/w266_NLP/training-PHI/121-03.xml', '/gdrive/My Drive/w266_NLP/training-PHI/121-04.xml', '/gdrive/My Drive/w266_NLP/training-PHI/122-05.xml', '/gdrive/My Drive/w266_NLP/training-PHI/123-01.xml', '/gdrive/My Drive/w266_NLP/training-PHI/122-04.xml', '/gdrive/My Drive/w266_NLP/training-PHI/122-03.xml', '/gdrive/My Drive/w266_NLP/training-PHI/123-03.xml', '/gdrive/My Drive/w266_NLP/training-PHI/122-02.xml', '/gdrive/My Drive/w266_NLP/training-PHI/122-01.xml', '/gdrive/My Drive/w266_NLP/training-PHI/123-02.xml', '/gdrive/My Drive/w266_NLP/training-PHI/123-04.xml', '/gdrive/My Drive/w266_NLP/training-PHI/124-02.xml', '/gdrive/My Drive/w266_NLP/training-PHI/124-04.xml', '/gdrive/My Drive/w266_NLP/training-PHI/125-02.xml', '/gdrive/My Drive/w266_NLP/training-PHI/124-01.xml', '/gdrive/My Drive/w266_NLP/training-PHI/125-05.xml', '/gdrive/My Drive/w266_NLP/training-PHI/125-04.xml', '/gdrive/My Drive/w266_NLP/training-PHI/125-03.xml', '/gdrive/My Drive/w266_NLP/training-PHI/125-01.xml', '/gdrive/My Drive/w266_NLP/training-PHI/124-03.xml', '/gdrive/My Drive/w266_NLP/training-PHI/126-01.xml', '/gdrive/My Drive/w266_NLP/training-PHI/126-03.xml', '/gdrive/My Drive/w266_NLP/training-PHI/127-02.xml', '/gdrive/My Drive/w266_NLP/training-PHI/127-01.xml', '/gdrive/My Drive/w266_NLP/training-PHI/126-05.xml', '/gdrive/My Drive/w266_NLP/training-PHI/126-04.xml', '/gdrive/My Drive/w266_NLP/training-PHI/126-02.xml', '/gdrive/My Drive/w266_NLP/training-PHI/127-03.xml', '/gdrive/My Drive/w266_NLP/training-PHI/127-05.xml', '/gdrive/My Drive/w266_NLP/training-PHI/127-04.xml', '/gdrive/My Drive/w266_NLP/training-PHI/128-01.xml', '/gdrive/My Drive/w266_NLP/training-PHI/128-03.xml', '/gdrive/My Drive/w266_NLP/training-PHI/129-01.xml', '/gdrive/My Drive/w266_NLP/training-PHI/129-02.xml', '/gdrive/My Drive/w266_NLP/training-PHI/129-03.xml', '/gdrive/My Drive/w266_NLP/training-PHI/128-02.xml', '/gdrive/My Drive/w266_NLP/training-PHI/128-05.xml', '/gdrive/My Drive/w266_NLP/training-PHI/128-04.xml', '/gdrive/My Drive/w266_NLP/training-PHI/129-04.xml', '/gdrive/My Drive/w266_NLP/training-PHI/129-05.xml', '/gdrive/My Drive/w266_NLP/training-PHI/140-01.xml', '/gdrive/My Drive/w266_NLP/training-PHI/141-01.xml', '/gdrive/My Drive/w266_NLP/training-PHI/140-03.xml', '/gdrive/My Drive/w266_NLP/training-PHI/141-02.xml', '/gdrive/My Drive/w266_NLP/training-PHI/140-04.xml', '/gdrive/My Drive/w266_NLP/training-PHI/140-05.xml', '/gdrive/My Drive/w266_NLP/training-PHI/140-02.xml', '/gdrive/My Drive/w266_NLP/training-PHI/142-01.xml', '/gdrive/My Drive/w266_NLP/training-PHI/141-03.xml', '/gdrive/My Drive/w266_NLP/training-PHI/141-04.xml', '/gdrive/My Drive/w266_NLP/training-PHI/144-01.xml', '/gdrive/My Drive/w266_NLP/training-PHI/144-03.xml', '/gdrive/My Drive/w266_NLP/training-PHI/145-03.xml', '/gdrive/My Drive/w266_NLP/training-PHI/142-02.xml', '/gdrive/My Drive/w266_NLP/training-PHI/142-04.xml', '/gdrive/My Drive/w266_NLP/training-PHI/145-01.xml', '/gdrive/My Drive/w266_NLP/training-PHI/144-04.xml', '/gdrive/My Drive/w266_NLP/training-PHI/145-02.xml', '/gdrive/My Drive/w266_NLP/training-PHI/142-03.xml', '/gdrive/My Drive/w266_NLP/training-PHI/144-02.xml', '/gdrive/My Drive/w266_NLP/training-PHI/145-04.xml', '/gdrive/My Drive/w266_NLP/training-PHI/145-05.xml', '/gdrive/My Drive/w266_NLP/training-PHI/147-04.xml', '/gdrive/My Drive/w266_NLP/training-PHI/147-02.xml', '/gdrive/My Drive/w266_NLP/training-PHI/147-03.xml', '/gdrive/My Drive/w266_NLP/training-PHI/147-01.xml', '/gdrive/My Drive/w266_NLP/training-PHI/146-03.xml', '/gdrive/My Drive/w266_NLP/training-PHI/146-02.xml', '/gdrive/My Drive/w266_NLP/training-PHI/146-04.xml', '/gdrive/My Drive/w266_NLP/training-PHI/146-01.xml', '/gdrive/My Drive/w266_NLP/training-PHI/147-05.xml', '/gdrive/My Drive/w266_NLP/training-PHI/148-03.xml', '/gdrive/My Drive/w266_NLP/training-PHI/148-02.xml', '/gdrive/My Drive/w266_NLP/training-PHI/148-04.xml', '/gdrive/My Drive/w266_NLP/training-PHI/148-01.xml', '/gdrive/My Drive/w266_NLP/training-PHI/148-05.xml', '/gdrive/My Drive/w266_NLP/training-PHI/149-04.xml', '/gdrive/My Drive/w266_NLP/training-PHI/149-02.xml', '/gdrive/My Drive/w266_NLP/training-PHI/149-01.xml', '/gdrive/My Drive/w266_NLP/training-PHI/149-03.xml', '/gdrive/My Drive/w266_NLP/training-PHI/150-01.xml', '/gdrive/My Drive/w266_NLP/training-PHI/150-04.xml', '/gdrive/My Drive/w266_NLP/training-PHI/151-01.xml', '/gdrive/My Drive/w266_NLP/training-PHI/151-03.xml', '/gdrive/My Drive/w266_NLP/training-PHI/151-02.xml', '/gdrive/My Drive/w266_NLP/training-PHI/150-03.xml', '/gdrive/My Drive/w266_NLP/training-PHI/150-02.xml', '/gdrive/My Drive/w266_NLP/training-PHI/151-04.xml', '/gdrive/My Drive/w266_NLP/training-PHI/151-05.xml', '/gdrive/My Drive/w266_NLP/training-PHI/152-01.xml', '/gdrive/My Drive/w266_NLP/training-PHI/152-02.xml', '/gdrive/My Drive/w266_NLP/training-PHI/154-01.xml', '/gdrive/My Drive/w266_NLP/training-PHI/153-04.xml', '/gdrive/My Drive/w266_NLP/training-PHI/153-01.xml', '/gdrive/My Drive/w266_NLP/training-PHI/153-02.xml', '/gdrive/My Drive/w266_NLP/training-PHI/154-02.xml', '/gdrive/My Drive/w266_NLP/training-PHI/153-03.xml', '/gdrive/My Drive/w266_NLP/training-PHI/152-04.xml', '/gdrive/My Drive/w266_NLP/training-PHI/152-03.xml', '/gdrive/My Drive/w266_NLP/training-PHI/154-03.xml', '/gdrive/My Drive/w266_NLP/training-PHI/154-04.xml', '/gdrive/My Drive/w266_NLP/training-PHI/156-01.xml', '/gdrive/My Drive/w266_NLP/training-PHI/155-05.xml', '/gdrive/My Drive/w266_NLP/training-PHI/155-01.xml', '/gdrive/My Drive/w266_NLP/training-PHI/156-04.xml', '/gdrive/My Drive/w266_NLP/training-PHI/155-03.xml', '/gdrive/My Drive/w266_NLP/training-PHI/155-04.xml', '/gdrive/My Drive/w266_NLP/training-PHI/155-02.xml', '/gdrive/My Drive/w266_NLP/training-PHI/156-02.xml', '/gdrive/My Drive/w266_NLP/training-PHI/156-03.xml', '/gdrive/My Drive/w266_NLP/training-PHI/156-05.xml', '/gdrive/My Drive/w266_NLP/training-PHI/157-03.xml', '/gdrive/My Drive/w266_NLP/training-PHI/157-02.xml', '/gdrive/My Drive/w266_NLP/training-PHI/158-02.xml', '/gdrive/My Drive/w266_NLP/training-PHI/157-01.xml', '/gdrive/My Drive/w266_NLP/training-PHI/157-05.xml', '/gdrive/My Drive/w266_NLP/training-PHI/158-04.xml', '/gdrive/My Drive/w266_NLP/training-PHI/157-04.xml', '/gdrive/My Drive/w266_NLP/training-PHI/158-01.xml', '/gdrive/My Drive/w266_NLP/training-PHI/158-03.xml', '/gdrive/My Drive/w266_NLP/training-PHI/159-01.xml', '/gdrive/My Drive/w266_NLP/training-PHI/170-04.xml', '/gdrive/My Drive/w266_NLP/training-PHI/159-02.xml', '/gdrive/My Drive/w266_NLP/training-PHI/159-05.xml', '/gdrive/My Drive/w266_NLP/training-PHI/170-01.xml', '/gdrive/My Drive/w266_NLP/training-PHI/170-05.xml', '/gdrive/My Drive/w266_NLP/training-PHI/170-02.xml', '/gdrive/My Drive/w266_NLP/training-PHI/159-04.xml', '/gdrive/My Drive/w266_NLP/training-PHI/159-03.xml', '/gdrive/My Drive/w266_NLP/training-PHI/170-03.xml', '/gdrive/My Drive/w266_NLP/training-PHI/171-01.xml', '/gdrive/My Drive/w266_NLP/training-PHI/171-03.xml', '/gdrive/My Drive/w266_NLP/training-PHI/172-03.xml', '/gdrive/My Drive/w266_NLP/training-PHI/172-05.xml', '/gdrive/My Drive/w266_NLP/training-PHI/172-04.xml', '/gdrive/My Drive/w266_NLP/training-PHI/171-05.xml', '/gdrive/My Drive/w266_NLP/training-PHI/172-01.xml', '/gdrive/My Drive/w266_NLP/training-PHI/172-02.xml', '/gdrive/My Drive/w266_NLP/training-PHI/171-04.xml', '/gdrive/My Drive/w266_NLP/training-PHI/171-02.xml', '/gdrive/My Drive/w266_NLP/training-PHI/173-01.xml', '/gdrive/My Drive/w266_NLP/training-PHI/173-04.xml', '/gdrive/My Drive/w266_NLP/training-PHI/174-02.xml', '/gdrive/My Drive/w266_NLP/training-PHI/174-03.xml', '/gdrive/My Drive/w266_NLP/training-PHI/174-05.xml', '/gdrive/My Drive/w266_NLP/training-PHI/173-05.xml', '/gdrive/My Drive/w266_NLP/training-PHI/174-01.xml', '/gdrive/My Drive/w266_NLP/training-PHI/173-02.xml', '/gdrive/My Drive/w266_NLP/training-PHI/173-03.xml', '/gdrive/My Drive/w266_NLP/training-PHI/174-04.xml', '/gdrive/My Drive/w266_NLP/training-PHI/175-01.xml', '/gdrive/My Drive/w266_NLP/training-PHI/176-01.xml', '/gdrive/My Drive/w266_NLP/training-PHI/177-02.xml', '/gdrive/My Drive/w266_NLP/training-PHI/176-02.xml', '/gdrive/My Drive/w266_NLP/training-PHI/175-02.xml', '/gdrive/My Drive/w266_NLP/training-PHI/176-03.xml', '/gdrive/My Drive/w266_NLP/training-PHI/176-04.xml', '/gdrive/My Drive/w266_NLP/training-PHI/177-01.xml', '/gdrive/My Drive/w266_NLP/training-PHI/175-03.xml', '/gdrive/My Drive/w266_NLP/training-PHI/175-04.xml', '/gdrive/My Drive/w266_NLP/training-PHI/177-03.xml', '/gdrive/My Drive/w266_NLP/training-PHI/178-01.xml', '/gdrive/My Drive/w266_NLP/training-PHI/178-04.xml', '/gdrive/My Drive/w266_NLP/training-PHI/178-03.xml', '/gdrive/My Drive/w266_NLP/training-PHI/177-04.xml', '/gdrive/My Drive/w266_NLP/training-PHI/178-05.xml', '/gdrive/My Drive/w266_NLP/training-PHI/178-02.xml', '/gdrive/My Drive/w266_NLP/training-PHI/179-01.xml', '/gdrive/My Drive/w266_NLP/training-PHI/179-02.xml', '/gdrive/My Drive/w266_NLP/training-PHI/177-05.xml', '/gdrive/My Drive/w266_NLP/training-PHI/179-03.xml', '/gdrive/My Drive/w266_NLP/training-PHI/180-01.xml', '/gdrive/My Drive/w266_NLP/training-PHI/179-04.xml', '/gdrive/My Drive/w266_NLP/training-PHI/180-04.xml', '/gdrive/My Drive/w266_NLP/training-PHI/180-02.xml', '/gdrive/My Drive/w266_NLP/training-PHI/180-03.xml', '/gdrive/My Drive/w266_NLP/training-PHI/181-02.xml', '/gdrive/My Drive/w266_NLP/training-PHI/181-01.xml', '/gdrive/My Drive/w266_NLP/training-PHI/180-05.xml', '/gdrive/My Drive/w266_NLP/training-PHI/181-03.xml', '/gdrive/My Drive/w266_NLP/training-PHI/181-04.xml', '/gdrive/My Drive/w266_NLP/training-PHI/182-03.xml', '/gdrive/My Drive/w266_NLP/training-PHI/182-02.xml', '/gdrive/My Drive/w266_NLP/training-PHI/182-04.xml', '/gdrive/My Drive/w266_NLP/training-PHI/182-01.xml', '/gdrive/My Drive/w266_NLP/training-PHI/182-05.xml', '/gdrive/My Drive/w266_NLP/training-PHI/183-01.xml', '/gdrive/My Drive/w266_NLP/training-PHI/183-02.xml', '/gdrive/My Drive/w266_NLP/training-PHI/183-04.xml', '/gdrive/My Drive/w266_NLP/training-PHI/183-03.xml', '/gdrive/My Drive/w266_NLP/training-PHI/183-05.xml', '/gdrive/My Drive/w266_NLP/training-PHI/184-02.xml', '/gdrive/My Drive/w266_NLP/training-PHI/184-05.xml', '/gdrive/My Drive/w266_NLP/training-PHI/184-01.xml', '/gdrive/My Drive/w266_NLP/training-PHI/185-02.xml', '/gdrive/My Drive/w266_NLP/training-PHI/185-04.xml', '/gdrive/My Drive/w266_NLP/training-PHI/184-04.xml', '/gdrive/My Drive/w266_NLP/training-PHI/184-03.xml', '/gdrive/My Drive/w266_NLP/training-PHI/185-01.xml', '/gdrive/My Drive/w266_NLP/training-PHI/185-03.xml', '/gdrive/My Drive/w266_NLP/training-PHI/186-01.xml', '/gdrive/My Drive/w266_NLP/training-PHI/186-04.xml', '/gdrive/My Drive/w266_NLP/training-PHI/186-03.xml', '/gdrive/My Drive/w266_NLP/training-PHI/186-02.xml', '/gdrive/My Drive/w266_NLP/training-PHI/187-03.xml', '/gdrive/My Drive/w266_NLP/training-PHI/187-01.xml', '/gdrive/My Drive/w266_NLP/training-PHI/187-05.xml', '/gdrive/My Drive/w266_NLP/training-PHI/187-02.xml', '/gdrive/My Drive/w266_NLP/training-PHI/187-04.xml', '/gdrive/My Drive/w266_NLP/training-PHI/188-01.xml', '/gdrive/My Drive/w266_NLP/training-PHI/188-02.xml', '/gdrive/My Drive/w266_NLP/training-PHI/189-02.xml', '/gdrive/My Drive/w266_NLP/training-PHI/189-05.xml', '/gdrive/My Drive/w266_NLP/training-PHI/189-04.xml', '/gdrive/My Drive/w266_NLP/training-PHI/188-05.xml', '/gdrive/My Drive/w266_NLP/training-PHI/189-01.xml', '/gdrive/My Drive/w266_NLP/training-PHI/189-03.xml', '/gdrive/My Drive/w266_NLP/training-PHI/188-04.xml', '/gdrive/My Drive/w266_NLP/training-PHI/188-03.xml', '/gdrive/My Drive/w266_NLP/training-PHI/220-01.xml', '/gdrive/My Drive/w266_NLP/training-PHI/220-02.xml', '/gdrive/My Drive/w266_NLP/training-PHI/221-05.xml', '/gdrive/My Drive/w266_NLP/training-PHI/221-02.xml', '/gdrive/My Drive/w266_NLP/training-PHI/220-05.xml', '/gdrive/My Drive/w266_NLP/training-PHI/220-04.xml', '/gdrive/My Drive/w266_NLP/training-PHI/220-03.xml', '/gdrive/My Drive/w266_NLP/training-PHI/221-03.xml', '/gdrive/My Drive/w266_NLP/training-PHI/221-04.xml', '/gdrive/My Drive/w266_NLP/training-PHI/222-01.xml', '/gdrive/My Drive/w266_NLP/training-PHI/221-01.xml', '/gdrive/My Drive/w266_NLP/training-PHI/222-02.xml', '/gdrive/My Drive/w266_NLP/training-PHI/223-03.xml', '/gdrive/My Drive/w266_NLP/training-PHI/223-02.xml', '/gdrive/My Drive/w266_NLP/training-PHI/224-02.xml', '/gdrive/My Drive/w266_NLP/training-PHI/222-03.xml', '/gdrive/My Drive/w266_NLP/training-PHI/222-04.xml', '/gdrive/My Drive/w266_NLP/training-PHI/224-01.xml', '/gdrive/My Drive/w266_NLP/training-PHI/222-05.xml', '/gdrive/My Drive/w266_NLP/training-PHI/223-04.xml', '/gdrive/My Drive/w266_NLP/training-PHI/223-01.xml', '/gdrive/My Drive/w266_NLP/training-PHI/224-03.xml', '/gdrive/My Drive/w266_NLP/training-PHI/226-04.xml', '/gdrive/My Drive/w266_NLP/training-PHI/224-04.xml', '/gdrive/My Drive/w266_NLP/training-PHI/225-04.xml', '/gdrive/My Drive/w266_NLP/training-PHI/225-03.xml', '/gdrive/My Drive/w266_NLP/training-PHI/226-03.xml', '/gdrive/My Drive/w266_NLP/training-PHI/225-02.xml', '/gdrive/My Drive/w266_NLP/training-PHI/225-01.xml', '/gdrive/My Drive/w266_NLP/training-PHI/226-01.xml', '/gdrive/My Drive/w266_NLP/training-PHI/226-02.xml', '/gdrive/My Drive/w266_NLP/training-PHI/226-05.xml', '/gdrive/My Drive/w266_NLP/training-PHI/227-04.xml', '/gdrive/My Drive/w266_NLP/training-PHI/228-04.xml', '/gdrive/My Drive/w266_NLP/training-PHI/227-02.xml', '/gdrive/My Drive/w266_NLP/training-PHI/228-03.xml', '/gdrive/My Drive/w266_NLP/training-PHI/228-02.xml', '/gdrive/My Drive/w266_NLP/training-PHI/227-03.xml', '/gdrive/My Drive/w266_NLP/training-PHI/227-05.xml', '/gdrive/My Drive/w266_NLP/training-PHI/227-01.xml', '/gdrive/My Drive/w266_NLP/training-PHI/228-01.xml', '/gdrive/My Drive/w266_NLP/training-PHI/228-05.xml', '/gdrive/My Drive/w266_NLP/training-PHI/240-04.xml', '/gdrive/My Drive/w266_NLP/training-PHI/240-01.xml', '/gdrive/My Drive/w266_NLP/training-PHI/229-03.xml', '/gdrive/My Drive/w266_NLP/training-PHI/229-01.xml', '/gdrive/My Drive/w266_NLP/training-PHI/240-03.xml', '/gdrive/My Drive/w266_NLP/training-PHI/229-02.xml', '/gdrive/My Drive/w266_NLP/training-PHI/240-02.xml', '/gdrive/My Drive/w266_NLP/training-PHI/241-01.xml', '/gdrive/My Drive/w266_NLP/training-PHI/241-02.xml', '/gdrive/My Drive/w266_NLP/training-PHI/241-03.xml', '/gdrive/My Drive/w266_NLP/training-PHI/242-03.xml', '/gdrive/My Drive/w266_NLP/training-PHI/242-01.xml', '/gdrive/My Drive/w266_NLP/training-PHI/242-02.xml', '/gdrive/My Drive/w266_NLP/training-PHI/241-04.xml', '/gdrive/My Drive/w266_NLP/training-PHI/242-05.xml', '/gdrive/My Drive/w266_NLP/training-PHI/243-01.xml', '/gdrive/My Drive/w266_NLP/training-PHI/242-04.xml', '/gdrive/My Drive/w266_NLP/training-PHI/243-03.xml', '/gdrive/My Drive/w266_NLP/training-PHI/243-02.xml', '/gdrive/My Drive/w266_NLP/training-PHI/243-04.xml', '/gdrive/My Drive/w266_NLP/training-PHI/244-03.xml', '/gdrive/My Drive/w266_NLP/training-PHI/244-02.xml', '/gdrive/My Drive/w266_NLP/training-PHI/244-01.xml', '/gdrive/My Drive/w266_NLP/training-PHI/244-04.xml', '/gdrive/My Drive/w266_NLP/training-PHI/246-03.xml', '/gdrive/My Drive/w266_NLP/training-PHI/246-04.xml', '/gdrive/My Drive/w266_NLP/training-PHI/246-01.xml', '/gdrive/My Drive/w266_NLP/training-PHI/246-02.xml', '/gdrive/My Drive/w266_NLP/training-PHI/247-01.xml', '/gdrive/My Drive/w266_NLP/training-PHI/247-02.xml', '/gdrive/My Drive/w266_NLP/training-PHI/248-03.xml', '/gdrive/My Drive/w266_NLP/training-PHI/247-04.xml', '/gdrive/My Drive/w266_NLP/training-PHI/248-01.xml', '/gdrive/My Drive/w266_NLP/training-PHI/247-03.xml', '/gdrive/My Drive/w266_NLP/training-PHI/248-02.xml', '/gdrive/My Drive/w266_NLP/training-PHI/249-01.xml', '/gdrive/My Drive/w266_NLP/training-PHI/248-04.xml', '/gdrive/My Drive/w266_NLP/training-PHI/249-03.xml', '/gdrive/My Drive/w266_NLP/training-PHI/249-02.xml', '/gdrive/My Drive/w266_NLP/training-PHI/249-04.xml', '/gdrive/My Drive/w266_NLP/training-PHI/251-03.xml', '/gdrive/My Drive/w266_NLP/training-PHI/250-03.xml', '/gdrive/My Drive/w266_NLP/training-PHI/250-04.xml', '/gdrive/My Drive/w266_NLP/training-PHI/251-01.xml', '/gdrive/My Drive/w266_NLP/training-PHI/250-02.xml', '/gdrive/My Drive/w266_NLP/training-PHI/250-01.xml', '/gdrive/My Drive/w266_NLP/training-PHI/251-02.xml', '/gdrive/My Drive/w266_NLP/training-PHI/252-01.xml', '/gdrive/My Drive/w266_NLP/training-PHI/251-04.xml', '/gdrive/My Drive/w266_NLP/training-PHI/252-02.xml', '/gdrive/My Drive/w266_NLP/training-PHI/252-04.xml', '/gdrive/My Drive/w266_NLP/training-PHI/252-05.xml', '/gdrive/My Drive/w266_NLP/training-PHI/254-02.xml', '/gdrive/My Drive/w266_NLP/training-PHI/253-04.xml', '/gdrive/My Drive/w266_NLP/training-PHI/253-01.xml', '/gdrive/My Drive/w266_NLP/training-PHI/253-02.xml', '/gdrive/My Drive/w266_NLP/training-PHI/252-03.xml', '/gdrive/My Drive/w266_NLP/training-PHI/254-01.xml', '/gdrive/My Drive/w266_NLP/training-PHI/253-03.xml', '/gdrive/My Drive/w266_NLP/training-PHI/254-03.xml', '/gdrive/My Drive/w266_NLP/training-PHI/254-04.xml', '/gdrive/My Drive/w266_NLP/training-PHI/256-01.xml', '/gdrive/My Drive/w266_NLP/training-PHI/255-02.xml', '/gdrive/My Drive/w266_NLP/training-PHI/256-02.xml', '/gdrive/My Drive/w266_NLP/training-PHI/256-04.xml', '/gdrive/My Drive/w266_NLP/training-PHI/255-01.xml', '/gdrive/My Drive/w266_NLP/training-PHI/254-05.xml', '/gdrive/My Drive/w266_NLP/training-PHI/255-03.xml', '/gdrive/My Drive/w266_NLP/training-PHI/256-03.xml', '/gdrive/My Drive/w266_NLP/training-PHI/256-05.xml', '/gdrive/My Drive/w266_NLP/training-PHI/257-02.xml', '/gdrive/My Drive/w266_NLP/training-PHI/257-04.xml', '/gdrive/My Drive/w266_NLP/training-PHI/257-03.xml', '/gdrive/My Drive/w266_NLP/training-PHI/258-04.xml', '/gdrive/My Drive/w266_NLP/training-PHI/258-01.xml', '/gdrive/My Drive/w266_NLP/training-PHI/257-01.xml', '/gdrive/My Drive/w266_NLP/training-PHI/258-05.xml', '/gdrive/My Drive/w266_NLP/training-PHI/258-02.xml', '/gdrive/My Drive/w266_NLP/training-PHI/258-03.xml', '/gdrive/My Drive/w266_NLP/training-PHI/259-01.xml', '/gdrive/My Drive/w266_NLP/training-PHI/270-03.xml', '/gdrive/My Drive/w266_NLP/training-PHI/270-04.xml', '/gdrive/My Drive/w266_NLP/training-PHI/270-01.xml', '/gdrive/My Drive/w266_NLP/training-PHI/270-02.xml', '/gdrive/My Drive/w266_NLP/training-PHI/259-02.xml', '/gdrive/My Drive/w266_NLP/training-PHI/259-04.xml', '/gdrive/My Drive/w266_NLP/training-PHI/259-03.xml', '/gdrive/My Drive/w266_NLP/training-PHI/271-02.xml', '/gdrive/My Drive/w266_NLP/training-PHI/271-01.xml', '/gdrive/My Drive/w266_NLP/training-PHI/271-03.xml', '/gdrive/My Drive/w266_NLP/training-PHI/272-04.xml', '/gdrive/My Drive/w266_NLP/training-PHI/272-03.xml', '/gdrive/My Drive/w266_NLP/training-PHI/272-01.xml', '/gdrive/My Drive/w266_NLP/training-PHI/273-04.xml', '/gdrive/My Drive/w266_NLP/training-PHI/271-04.xml', '/gdrive/My Drive/w266_NLP/training-PHI/273-02.xml', '/gdrive/My Drive/w266_NLP/training-PHI/273-01.xml', '/gdrive/My Drive/w266_NLP/training-PHI/272-02.xml', '/gdrive/My Drive/w266_NLP/training-PHI/273-03.xml', '/gdrive/My Drive/w266_NLP/training-PHI/273-05.xml', '/gdrive/My Drive/w266_NLP/training-PHI/275-03.xml', '/gdrive/My Drive/w266_NLP/training-PHI/276-01.xml', '/gdrive/My Drive/w266_NLP/training-PHI/274-02.xml', '/gdrive/My Drive/w266_NLP/training-PHI/275-02.xml', '/gdrive/My Drive/w266_NLP/training-PHI/275-04.xml', '/gdrive/My Drive/w266_NLP/training-PHI/274-03.xml', '/gdrive/My Drive/w266_NLP/training-PHI/274-01.xml', '/gdrive/My Drive/w266_NLP/training-PHI/275-01.xml', '/gdrive/My Drive/w266_NLP/training-PHI/274-04.xml', '/gdrive/My Drive/w266_NLP/training-PHI/276-02.xml', '/gdrive/My Drive/w266_NLP/training-PHI/277-05.xml', '/gdrive/My Drive/w266_NLP/training-PHI/277-01.xml', '/gdrive/My Drive/w266_NLP/training-PHI/276-03.xml', '/gdrive/My Drive/w266_NLP/training-PHI/277-02.xml', '/gdrive/My Drive/w266_NLP/training-PHI/278-01.xml', '/gdrive/My Drive/w266_NLP/training-PHI/277-03.xml', '/gdrive/My Drive/w266_NLP/training-PHI/276-04.xml', '/gdrive/My Drive/w266_NLP/training-PHI/277-04.xml', '/gdrive/My Drive/w266_NLP/training-PHI/278-02.xml', '/gdrive/My Drive/w266_NLP/training-PHI/278-03.xml', '/gdrive/My Drive/w266_NLP/training-PHI/279-01.xml', '/gdrive/My Drive/w266_NLP/training-PHI/279-02.xml', '/gdrive/My Drive/w266_NLP/training-PHI/278-05.xml', '/gdrive/My Drive/w266_NLP/training-PHI/279-03.xml', '/gdrive/My Drive/w266_NLP/training-PHI/278-04.xml', '/gdrive/My Drive/w266_NLP/training-PHI/280-01.xml', '/gdrive/My Drive/w266_NLP/training-PHI/279-05.xml', '/gdrive/My Drive/w266_NLP/training-PHI/280-02.xml', '/gdrive/My Drive/w266_NLP/training-PHI/279-04.xml', '/gdrive/My Drive/w266_NLP/training-PHI/280-03.xml', '/gdrive/My Drive/w266_NLP/training-PHI/280-04.xml', '/gdrive/My Drive/w266_NLP/training-PHI/281-02.xml', '/gdrive/My Drive/w266_NLP/training-PHI/281-03.xml', '/gdrive/My Drive/w266_NLP/training-PHI/281-01.xml', '/gdrive/My Drive/w266_NLP/training-PHI/282-01.xml', '/gdrive/My Drive/w266_NLP/training-PHI/283-01.xml', '/gdrive/My Drive/w266_NLP/training-PHI/282-04.xml', '/gdrive/My Drive/w266_NLP/training-PHI/282-03.xml', '/gdrive/My Drive/w266_NLP/training-PHI/282-02.xml', '/gdrive/My Drive/w266_NLP/training-PHI/283-02.xml', '/gdrive/My Drive/w266_NLP/training-PHI/285-01.xml', '/gdrive/My Drive/w266_NLP/training-PHI/283-03.xml', '/gdrive/My Drive/w266_NLP/training-PHI/284-02.xml', '/gdrive/My Drive/w266_NLP/training-PHI/284-05.xml', '/gdrive/My Drive/w266_NLP/training-PHI/284-01.xml', '/gdrive/My Drive/w266_NLP/training-PHI/283-04.xml', '/gdrive/My Drive/w266_NLP/training-PHI/285-02.xml', '/gdrive/My Drive/w266_NLP/training-PHI/284-04.xml', '/gdrive/My Drive/w266_NLP/training-PHI/284-03.xml', '/gdrive/My Drive/w266_NLP/training-PHI/285-03.xml', '/gdrive/My Drive/w266_NLP/training-PHI/286-02.xml', '/gdrive/My Drive/w266_NLP/training-PHI/286-03.xml', '/gdrive/My Drive/w266_NLP/training-PHI/286-01.xml', '/gdrive/My Drive/w266_NLP/training-PHI/285-05.xml', '/gdrive/My Drive/w266_NLP/training-PHI/287-01.xml', '/gdrive/My Drive/w266_NLP/training-PHI/287-03.xml', '/gdrive/My Drive/w266_NLP/training-PHI/287-02.xml', '/gdrive/My Drive/w266_NLP/training-PHI/285-04.xml', '/gdrive/My Drive/w266_NLP/training-PHI/286-04.xml', '/gdrive/My Drive/w266_NLP/training-PHI/288-01.xml', '/gdrive/My Drive/w266_NLP/training-PHI/288-02.xml', '/gdrive/My Drive/w266_NLP/training-PHI/288-05.xml', '/gdrive/My Drive/w266_NLP/training-PHI/289-01.xml', '/gdrive/My Drive/w266_NLP/training-PHI/288-04.xml', '/gdrive/My Drive/w266_NLP/training-PHI/289-04.xml', '/gdrive/My Drive/w266_NLP/training-PHI/289-05.xml', '/gdrive/My Drive/w266_NLP/training-PHI/289-02.xml', '/gdrive/My Drive/w266_NLP/training-PHI/289-03.xml', '/gdrive/My Drive/w266_NLP/training-PHI/288-03.xml', '/gdrive/My Drive/w266_NLP/training-PHI/290-03.xml', '/gdrive/My Drive/w266_NLP/training-PHI/290-02.xml', '/gdrive/My Drive/w266_NLP/training-PHI/291-01.xml', '/gdrive/My Drive/w266_NLP/training-PHI/291-03.xml', '/gdrive/My Drive/w266_NLP/training-PHI/290-01.xml', '/gdrive/My Drive/w266_NLP/training-PHI/290-04.xml', '/gdrive/My Drive/w266_NLP/training-PHI/291-04.xml', '/gdrive/My Drive/w266_NLP/training-PHI/291-05.xml', '/gdrive/My Drive/w266_NLP/training-PHI/291-02.xml', '/gdrive/My Drive/w266_NLP/training-PHI/292-01.xml', '/gdrive/My Drive/w266_NLP/training-PHI/292-02.xml', '/gdrive/My Drive/w266_NLP/training-PHI/292-05.xml', '/gdrive/My Drive/w266_NLP/training-PHI/292-03.xml', '/gdrive/My Drive/w266_NLP/training-PHI/293-04.xml', '/gdrive/My Drive/w266_NLP/training-PHI/292-04.xml', '/gdrive/My Drive/w266_NLP/training-PHI/293-05.xml', '/gdrive/My Drive/w266_NLP/training-PHI/293-03.xml', '/gdrive/My Drive/w266_NLP/training-PHI/293-02.xml', '/gdrive/My Drive/w266_NLP/training-PHI/294-01.xml', '/gdrive/My Drive/w266_NLP/training-PHI/293-01.xml', '/gdrive/My Drive/w266_NLP/training-PHI/294-02.xml', '/gdrive/My Drive/w266_NLP/training-PHI/294-04.xml', '/gdrive/My Drive/w266_NLP/training-PHI/295-02.xml', '/gdrive/My Drive/w266_NLP/training-PHI/295-01.xml', '/gdrive/My Drive/w266_NLP/training-PHI/295-03.xml', '/gdrive/My Drive/w266_NLP/training-PHI/294-03.xml', '/gdrive/My Drive/w266_NLP/training-PHI/295-04.xml', '/gdrive/My Drive/w266_NLP/training-PHI/296-01.xml', '/gdrive/My Drive/w266_NLP/training-PHI/295-05.xml', '/gdrive/My Drive/w266_NLP/training-PHI/296-02.xml', '/gdrive/My Drive/w266_NLP/training-PHI/296-03.xml', '/gdrive/My Drive/w266_NLP/training-PHI/296-05.xml', '/gdrive/My Drive/w266_NLP/training-PHI/297-03.xml', '/gdrive/My Drive/w266_NLP/training-PHI/297-01.xml', '/gdrive/My Drive/w266_NLP/training-PHI/296-04.xml', '/gdrive/My Drive/w266_NLP/training-PHI/297-04.xml', '/gdrive/My Drive/w266_NLP/training-PHI/297-02.xml', '/gdrive/My Drive/w266_NLP/training-PHI/297-05.xml', '/gdrive/My Drive/w266_NLP/training-PHI/298-01.xml', '/gdrive/My Drive/w266_NLP/training-PHI/298-02.xml', '/gdrive/My Drive/w266_NLP/training-PHI/298-03.xml', '/gdrive/My Drive/w266_NLP/training-PHI/299-04.xml', '/gdrive/My Drive/w266_NLP/training-PHI/299-03.xml', '/gdrive/My Drive/w266_NLP/training-PHI/298-04.xml', '/gdrive/My Drive/w266_NLP/training-PHI/300-02.xml', '/gdrive/My Drive/w266_NLP/training-PHI/299-05.xml', '/gdrive/My Drive/w266_NLP/training-PHI/299-01.xml', '/gdrive/My Drive/w266_NLP/training-PHI/298-05.xml', '/gdrive/My Drive/w266_NLP/training-PHI/300-01.xml', '/gdrive/My Drive/w266_NLP/training-PHI/299-02.xml', '/gdrive/My Drive/w266_NLP/training-PHI/300-03.xml', '/gdrive/My Drive/w266_NLP/training-PHI/300-05.xml', '/gdrive/My Drive/w266_NLP/training-PHI/301-01.xml', '/gdrive/My Drive/w266_NLP/training-PHI/300-04.xml', '/gdrive/My Drive/w266_NLP/training-PHI/301-02.xml', '/gdrive/My Drive/w266_NLP/training-PHI/301-04.xml', '/gdrive/My Drive/w266_NLP/training-PHI/301-03.xml', '/gdrive/My Drive/w266_NLP/training-PHI/301-05.xml', '/gdrive/My Drive/w266_NLP/training-PHI/302-02.xml', '/gdrive/My Drive/w266_NLP/training-PHI/302-01.xml', '/gdrive/My Drive/w266_NLP/training-PHI/302-03.xml', '/gdrive/My Drive/w266_NLP/training-PHI/303-01.xml', '/gdrive/My Drive/w266_NLP/training-PHI/304-02.xml', '/gdrive/My Drive/w266_NLP/training-PHI/303-04.xml', '/gdrive/My Drive/w266_NLP/training-PHI/303-02.xml', '/gdrive/My Drive/w266_NLP/training-PHI/303-03.xml', '/gdrive/My Drive/w266_NLP/training-PHI/304-01.xml', '/gdrive/My Drive/w266_NLP/training-PHI/304-04.xml', '/gdrive/My Drive/w266_NLP/training-PHI/304-03.xml', '/gdrive/My Drive/w266_NLP/training-PHI/302-04.xml', '/gdrive/My Drive/w266_NLP/training-PHI/305-04.xml', '/gdrive/My Drive/w266_NLP/training-PHI/305-03.xml', '/gdrive/My Drive/w266_NLP/training-PHI/305-01.xml', '/gdrive/My Drive/w266_NLP/training-PHI/306-01.xml', '/gdrive/My Drive/w266_NLP/training-PHI/305-02.xml', '/gdrive/My Drive/w266_NLP/training-PHI/304-05.xml', '/gdrive/My Drive/w266_NLP/training-PHI/306-03.xml', '/gdrive/My Drive/w266_NLP/training-PHI/307-01.xml', '/gdrive/My Drive/w266_NLP/training-PHI/306-02.xml', '/gdrive/My Drive/w266_NLP/training-PHI/306-04.xml', '/gdrive/My Drive/w266_NLP/training-PHI/307-02.xml', '/gdrive/My Drive/w266_NLP/training-PHI/307-05.xml', '/gdrive/My Drive/w266_NLP/training-PHI/308-01.xml', '/gdrive/My Drive/w266_NLP/training-PHI/307-04.xml', '/gdrive/My Drive/w266_NLP/training-PHI/308-04.xml', '/gdrive/My Drive/w266_NLP/training-PHI/309-01.xml', '/gdrive/My Drive/w266_NLP/training-PHI/308-02.xml', '/gdrive/My Drive/w266_NLP/training-PHI/308-03.xml', '/gdrive/My Drive/w266_NLP/training-PHI/309-02.xml', '/gdrive/My Drive/w266_NLP/training-PHI/307-03.xml', '/gdrive/My Drive/w266_NLP/training-PHI/309-03.xml', '/gdrive/My Drive/w266_NLP/training-PHI/320-04.xml', '/gdrive/My Drive/w266_NLP/training-PHI/309-04.xml', '/gdrive/My Drive/w266_NLP/training-PHI/320-02.xml', '/gdrive/My Drive/w266_NLP/training-PHI/320-03.xml', '/gdrive/My Drive/w266_NLP/training-PHI/309-05.xml', '/gdrive/My Drive/w266_NLP/training-PHI/321-02.xml', '/gdrive/My Drive/w266_NLP/training-PHI/321-01.xml', '/gdrive/My Drive/w266_NLP/training-PHI/320-01.xml', '/gdrive/My Drive/w266_NLP/training-PHI/321-03.xml', '/gdrive/My Drive/w266_NLP/training-PHI/321-04.xml', '/gdrive/My Drive/w266_NLP/training-PHI/322-03.xml', '/gdrive/My Drive/w266_NLP/training-PHI/322-04.xml', '/gdrive/My Drive/w266_NLP/training-PHI/322-02.xml', '/gdrive/My Drive/w266_NLP/training-PHI/322-01.xml', '/gdrive/My Drive/w266_NLP/training-PHI/323-02.xml', '/gdrive/My Drive/w266_NLP/training-PHI/322-05.xml', '/gdrive/My Drive/w266_NLP/training-PHI/323-04.xml', '/gdrive/My Drive/w266_NLP/training-PHI/323-03.xml', '/gdrive/My Drive/w266_NLP/training-PHI/323-01.xml', '/gdrive/My Drive/w266_NLP/training-PHI/323-05.xml', '/gdrive/My Drive/w266_NLP/training-PHI/325-01.xml', '/gdrive/My Drive/w266_NLP/training-PHI/324-04.xml', '/gdrive/My Drive/w266_NLP/training-PHI/324-03.xml', '/gdrive/My Drive/w266_NLP/training-PHI/324-05.xml', '/gdrive/My Drive/w266_NLP/training-PHI/324-01.xml', '/gdrive/My Drive/w266_NLP/training-PHI/325-02.xml', '/gdrive/My Drive/w266_NLP/training-PHI/324-02.xml', '/gdrive/My Drive/w266_NLP/training-PHI/325-04.xml', '/gdrive/My Drive/w266_NLP/training-PHI/325-03.xml', '/gdrive/My Drive/w266_NLP/training-PHI/325-05.xml', '/gdrive/My Drive/w266_NLP/training-PHI/326-04.xml', '/gdrive/My Drive/w266_NLP/training-PHI/326-01.xml', '/gdrive/My Drive/w266_NLP/training-PHI/326-03.xml', '/gdrive/My Drive/w266_NLP/training-PHI/326-05.xml', '/gdrive/My Drive/w266_NLP/training-PHI/327-02.xml', '/gdrive/My Drive/w266_NLP/training-PHI/327-01.xml', '/gdrive/My Drive/w266_NLP/training-PHI/326-02.xml', '/gdrive/My Drive/w266_NLP/training-PHI/327-03.xml', '/gdrive/My Drive/w266_NLP/training-PHI/327-04.xml', '/gdrive/My Drive/w266_NLP/training-PHI/328-01.xml', '/gdrive/My Drive/w266_NLP/training-PHI/328-02.xml', '/gdrive/My Drive/w266_NLP/training-PHI/329-04.xml', '/gdrive/My Drive/w266_NLP/training-PHI/329-01.xml', '/gdrive/My Drive/w266_NLP/training-PHI/328-04.xml', '/gdrive/My Drive/w266_NLP/training-PHI/328-03.xml', '/gdrive/My Drive/w266_NLP/training-PHI/329-03.xml', '/gdrive/My Drive/w266_NLP/training-PHI/329-02.xml', '/gdrive/My Drive/w266_NLP/training-PHI/330-02.xml', '/gdrive/My Drive/w266_NLP/training-PHI/330-01.xml', '/gdrive/My Drive/w266_NLP/training-PHI/330-03.xml', '/gdrive/My Drive/w266_NLP/training-PHI/331-02.xml', '/gdrive/My Drive/w266_NLP/training-PHI/332-03.xml', '/gdrive/My Drive/w266_NLP/training-PHI/331-04.xml', '/gdrive/My Drive/w266_NLP/training-PHI/331-01.xml', '/gdrive/My Drive/w266_NLP/training-PHI/331-03.xml', '/gdrive/My Drive/w266_NLP/training-PHI/332-02.xml', '/gdrive/My Drive/w266_NLP/training-PHI/331-05.xml', '/gdrive/My Drive/w266_NLP/training-PHI/332-01.xml', '/gdrive/My Drive/w266_NLP/training-PHI/330-04.xml', '/gdrive/My Drive/w266_NLP/training-PHI/332-04.xml', '/gdrive/My Drive/w266_NLP/training-PHI/333-03.xml', '/gdrive/My Drive/w266_NLP/training-PHI/332-05.xml', '/gdrive/My Drive/w266_NLP/training-PHI/333-02.xml', '/gdrive/My Drive/w266_NLP/training-PHI/333-01.xml', '/gdrive/My Drive/w266_NLP/training-PHI/333-04.xml', '/gdrive/My Drive/w266_NLP/training-PHI/334-01.xml', '/gdrive/My Drive/w266_NLP/training-PHI/334-03.xml', '/gdrive/My Drive/w266_NLP/training-PHI/334-04.xml', '/gdrive/My Drive/w266_NLP/training-PHI/334-02.xml', '/gdrive/My Drive/w266_NLP/training-PHI/335-01.xml', '/gdrive/My Drive/w266_NLP/training-PHI/336-03.xml', '/gdrive/My Drive/w266_NLP/training-PHI/337-02.xml', '/gdrive/My Drive/w266_NLP/training-PHI/336-02.xml', '/gdrive/My Drive/w266_NLP/training-PHI/336-04.xml', '/gdrive/My Drive/w266_NLP/training-PHI/335-04.xml', '/gdrive/My Drive/w266_NLP/training-PHI/336-01.xml', '/gdrive/My Drive/w266_NLP/training-PHI/335-02.xml', '/gdrive/My Drive/w266_NLP/training-PHI/337-01.xml', '/gdrive/My Drive/w266_NLP/training-PHI/335-03.xml', '/gdrive/My Drive/w266_NLP/training-PHI/337-03.xml', '/gdrive/My Drive/w266_NLP/training-PHI/339-02.xml', '/gdrive/My Drive/w266_NLP/training-PHI/339-01.xml', '/gdrive/My Drive/w266_NLP/training-PHI/338-04.xml', '/gdrive/My Drive/w266_NLP/training-PHI/338-03.xml', '/gdrive/My Drive/w266_NLP/training-PHI/338-02.xml', '/gdrive/My Drive/w266_NLP/training-PHI/337-05.xml', '/gdrive/My Drive/w266_NLP/training-PHI/337-04.xml', '/gdrive/My Drive/w266_NLP/training-PHI/338-05.xml', '/gdrive/My Drive/w266_NLP/training-PHI/338-01.xml', '/gdrive/My Drive/w266_NLP/training-PHI/339-03.xml', '/gdrive/My Drive/w266_NLP/training-PHI/350-01.xml', '/gdrive/My Drive/w266_NLP/training-PHI/350-02.xml', '/gdrive/My Drive/w266_NLP/training-PHI/350-03.xml', '/gdrive/My Drive/w266_NLP/training-PHI/350-04.xml', '/gdrive/My Drive/w266_NLP/training-PHI/339-04.xml', '/gdrive/My Drive/w266_NLP/training-PHI/351-03.xml', '/gdrive/My Drive/w266_NLP/training-PHI/351-01.xml', '/gdrive/My Drive/w266_NLP/training-PHI/351-02.xml', '/gdrive/My Drive/w266_NLP/training-PHI/351-04.xml', '/gdrive/My Drive/w266_NLP/training-PHI/352-01.xml', '/gdrive/My Drive/w266_NLP/training-PHI/353-02.xml', '/gdrive/My Drive/w266_NLP/training-PHI/353-04.xml', '/gdrive/My Drive/w266_NLP/training-PHI/352-05.xml', '/gdrive/My Drive/w266_NLP/training-PHI/352-02.xml', '/gdrive/My Drive/w266_NLP/training-PHI/353-01.xml', '/gdrive/My Drive/w266_NLP/training-PHI/352-04.xml', '/gdrive/My Drive/w266_NLP/training-PHI/352-03.xml', '/gdrive/My Drive/w266_NLP/training-PHI/353-03.xml', '/gdrive/My Drive/w266_NLP/training-PHI/354-01.xml', '/gdrive/My Drive/w266_NLP/training-PHI/354-02.xml', '/gdrive/My Drive/w266_NLP/training-PHI/355-01.xml', '/gdrive/My Drive/w266_NLP/training-PHI/355-04.xml', '/gdrive/My Drive/w266_NLP/training-PHI/355-03.xml', '/gdrive/My Drive/w266_NLP/training-PHI/355-02.xml', '/gdrive/My Drive/w266_NLP/training-PHI/354-03.xml', '/gdrive/My Drive/w266_NLP/training-PHI/354-04.xml', '/gdrive/My Drive/w266_NLP/training-PHI/356-03.xml', '/gdrive/My Drive/w266_NLP/training-PHI/356-02.xml', '/gdrive/My Drive/w266_NLP/training-PHI/356-01.xml', '/gdrive/My Drive/w266_NLP/training-PHI/356-04.xml', '/gdrive/My Drive/w266_NLP/training-PHI/357-05.xml', '/gdrive/My Drive/w266_NLP/training-PHI/357-01.xml', '/gdrive/My Drive/w266_NLP/training-PHI/357-03.xml', '/gdrive/My Drive/w266_NLP/training-PHI/357-02.xml', '/gdrive/My Drive/w266_NLP/training-PHI/357-04.xml', '/gdrive/My Drive/w266_NLP/training-PHI/358-04.xml', '/gdrive/My Drive/w266_NLP/training-PHI/358-01.xml', '/gdrive/My Drive/w266_NLP/training-PHI/358-02.xml', '/gdrive/My Drive/w266_NLP/training-PHI/358-03.xml', '/gdrive/My Drive/w266_NLP/training-PHI/359-01.xml', '/gdrive/My Drive/w266_NLP/training-PHI/359-02.xml', '/gdrive/My Drive/w266_NLP/training-PHI/360-01.xml', '/gdrive/My Drive/w266_NLP/training-PHI/360-03.xml', '/gdrive/My Drive/w266_NLP/training-PHI/360-04.xml', '/gdrive/My Drive/w266_NLP/training-PHI/359-03.xml', '/gdrive/My Drive/w266_NLP/training-PHI/360-02.xml', '/gdrive/My Drive/w266_NLP/training-PHI/361-01.xml', '/gdrive/My Drive/w266_NLP/training-PHI/359-04.xml', '/gdrive/My Drive/w266_NLP/training-PHI/361-02.xml', '/gdrive/My Drive/w266_NLP/training-PHI/361-03.xml', '/gdrive/My Drive/w266_NLP/training-PHI/362-01.xml', '/gdrive/My Drive/w266_NLP/training-PHI/362-04.xml', '/gdrive/My Drive/w266_NLP/training-PHI/362-02.xml', '/gdrive/My Drive/w266_NLP/training-PHI/363-03.xml', '/gdrive/My Drive/w266_NLP/training-PHI/361-04.xml', '/gdrive/My Drive/w266_NLP/training-PHI/361-05.xml', '/gdrive/My Drive/w266_NLP/training-PHI/363-02.xml', '/gdrive/My Drive/w266_NLP/training-PHI/363-01.xml', '/gdrive/My Drive/w266_NLP/training-PHI/362-03.xml', '/gdrive/My Drive/w266_NLP/training-PHI/363-04.xml', '/gdrive/My Drive/w266_NLP/training-PHI/364-03.xml', '/gdrive/My Drive/w266_NLP/training-PHI/364-02.xml', '/gdrive/My Drive/w266_NLP/training-PHI/364-01.xml', '/gdrive/My Drive/w266_NLP/training-PHI/364-04.xml', '/gdrive/My Drive/w266_NLP/training-PHI/365-01.xml', '/gdrive/My Drive/w266_NLP/training-PHI/365-02.xml', '/gdrive/My Drive/w266_NLP/training-PHI/365-05.xml', '/gdrive/My Drive/w266_NLP/training-PHI/365-03.xml', '/gdrive/My Drive/w266_NLP/training-PHI/365-04.xml', '/gdrive/My Drive/w266_NLP/training-PHI/366-01.xml', '/gdrive/My Drive/w266_NLP/training-PHI/366-02.xml', '/gdrive/My Drive/w266_NLP/training-PHI/367-02.xml', '/gdrive/My Drive/w266_NLP/training-PHI/366-03.xml', '/gdrive/My Drive/w266_NLP/training-PHI/367-04.xml', '/gdrive/My Drive/w266_NLP/training-PHI/367-01.xml', '/gdrive/My Drive/w266_NLP/training-PHI/367-03.xml', '/gdrive/My Drive/w266_NLP/training-PHI/366-04.xml', '/gdrive/My Drive/w266_NLP/training-PHI/368-02.xml', '/gdrive/My Drive/w266_NLP/training-PHI/368-01.xml', '/gdrive/My Drive/w266_NLP/training-PHI/368-03.xml', '/gdrive/My Drive/w266_NLP/training-PHI/369-04.xml', '/gdrive/My Drive/w266_NLP/training-PHI/369-01.xml', '/gdrive/My Drive/w266_NLP/training-PHI/369-02.xml', '/gdrive/My Drive/w266_NLP/training-PHI/391-01.xml', '/gdrive/My Drive/w266_NLP/training-PHI/368-04.xml', '/gdrive/My Drive/w266_NLP/training-PHI/369-03.xml', '/gdrive/My Drive/w266_NLP/training-PHI/391-03.xml', '/gdrive/My Drive/w266_NLP/training-PHI/391-04.xml', '/gdrive/My Drive/w266_NLP/training-PHI/391-02.xml', '/gdrive/My Drive/w266_NLP/training-PHI/391-05.xml', '/gdrive/My Drive/w266_NLP/training-PHI/392-04.xml', '/gdrive/My Drive/w266_NLP/training-PHI/393-01.xml', '/gdrive/My Drive/w266_NLP/training-PHI/392-01.xml', '/gdrive/My Drive/w266_NLP/training-PHI/392-02.xml', '/gdrive/My Drive/w266_NLP/training-PHI/392-03.xml', '/gdrive/My Drive/w266_NLP/training-PHI/393-02.xml', '/gdrive/My Drive/w266_NLP/training-PHI/393-05.xml', '/gdrive/My Drive/w266_NLP/training-PHI/393-04.xml', '/gdrive/My Drive/w266_NLP/training-PHI/393-03.xml', '/gdrive/My Drive/w266_NLP/training-PHI/394-01.xml', '/gdrive/My Drive/w266_NLP/training-PHI/394-02.xml', '/gdrive/My Drive/w266_NLP/training-PHI/394-03.xml', '/gdrive/My Drive/w266_NLP/training-PHI/395-01.xml', '/gdrive/My Drive/w266_NLP/training-PHI/394-04.xml', '/gdrive/My Drive/w266_NLP/training-PHI/395-02.xml', '/gdrive/My Drive/w266_NLP/training-PHI/395-04.xml', '/gdrive/My Drive/w266_NLP/training-PHI/395-03.xml', '/gdrive/My Drive/w266_NLP/training-PHI/396-01.xml', '/gdrive/My Drive/w266_NLP/training-PHI/395-05.xml', '/gdrive/My Drive/w266_NLP/training-PHI/396-02.xml', '/gdrive/My Drive/w266_NLP/training-PHI/397-01.xml', '/gdrive/My Drive/w266_NLP/training-PHI/397-04.xml', '/gdrive/My Drive/w266_NLP/training-PHI/398-01.xml', '/gdrive/My Drive/w266_NLP/training-PHI/396-03.xml', '/gdrive/My Drive/w266_NLP/training-PHI/398-02.xml', '/gdrive/My Drive/w266_NLP/training-PHI/397-03.xml', '/gdrive/My Drive/w266_NLP/training-PHI/396-04.xml', '/gdrive/My Drive/w266_NLP/training-PHI/398-03.xml', '/gdrive/My Drive/w266_NLP/training-PHI/397-02.xml', '/gdrive/My Drive/w266_NLP/training-PHI/398-04.xml', '/gdrive/My Drive/w266_NLP/training-PHI/399-02.xml', '/gdrive/My Drive/w266_NLP/training-PHI/399-01.xml', '/gdrive/My Drive/w266_NLP/training-PHI/400-01.xml', '/gdrive/My Drive/w266_NLP/training-PHI/399-03.xml', '/gdrive/My Drive/w266_NLP/training-PHI/400-02.xml', '/gdrive/My Drive/w266_NLP/training-PHI/399-04.xml', '/gdrive/My Drive/w266_NLP/training-PHI/400-05.xml', '/gdrive/My Drive/w266_NLP/training-PHI/400-03.xml', '/gdrive/My Drive/w266_NLP/training-PHI/400-04.xml']\n"
          ],
          "name": "stdout"
        }
      ]
    },
    {
      "cell_type": "code",
      "metadata": {
        "id": "MpT-K7y1NlhM",
        "colab_type": "code",
        "outputId": "3d40cbab-fc17-442a-b69b-047f337d0f4d",
        "colab": {
          "base_uri": "https://localhost:8080/",
          "height": 71
        }
      },
      "source": [
        "test_filelist=[]\n",
        "\n",
        "for file in os.listdir('/gdrive/My Drive/w266_NLP/test-PHI'):#set your file path here\n",
        "  filename = os.fsdecode(os.fsencode('/gdrive/My Drive/w266_NLP/test-PHI/'+file))\n",
        "  if filename.endswith( ('.xml') ): # select xml files\n",
        "    test_filelist.append(filename)\n",
        "\n",
        "print(\"There are {} test file\".format(len(test_filelist))) #check that the number of test file is 514 records for 178 patients\n",
        "print(test_filelist)"
      ],
      "execution_count": 0,
      "outputs": [
        {
          "output_type": "stream",
          "text": [
            "There are 514 test file\n",
            "['/gdrive/My Drive/w266_NLP/test-PHI/389-04.xml', '/gdrive/My Drive/w266_NLP/test-PHI/110-04.xml', '/gdrive/My Drive/w266_NLP/test-PHI/111-01.xml', '/gdrive/My Drive/w266_NLP/test-PHI/110-03.xml', '/gdrive/My Drive/w266_NLP/test-PHI/111-04.xml', '/gdrive/My Drive/w266_NLP/test-PHI/112-01.xml', '/gdrive/My Drive/w266_NLP/test-PHI/110-01.xml', '/gdrive/My Drive/w266_NLP/test-PHI/111-03.xml', '/gdrive/My Drive/w266_NLP/test-PHI/110-02.xml', '/gdrive/My Drive/w266_NLP/test-PHI/111-02.xml', '/gdrive/My Drive/w266_NLP/test-PHI/112-02.xml', '/gdrive/My Drive/w266_NLP/test-PHI/112-04.xml', '/gdrive/My Drive/w266_NLP/test-PHI/112-03.xml', '/gdrive/My Drive/w266_NLP/test-PHI/113-01.xml', '/gdrive/My Drive/w266_NLP/test-PHI/113-02.xml', '/gdrive/My Drive/w266_NLP/test-PHI/113-04.xml', '/gdrive/My Drive/w266_NLP/test-PHI/113-05.xml', '/gdrive/My Drive/w266_NLP/test-PHI/113-03.xml', '/gdrive/My Drive/w266_NLP/test-PHI/114-01.xml', '/gdrive/My Drive/w266_NLP/test-PHI/112-05.xml', '/gdrive/My Drive/w266_NLP/test-PHI/114-02.xml', '/gdrive/My Drive/w266_NLP/test-PHI/115-04.xml', '/gdrive/My Drive/w266_NLP/test-PHI/115-01.xml', '/gdrive/My Drive/w266_NLP/test-PHI/114-03.xml', '/gdrive/My Drive/w266_NLP/test-PHI/114-04.xml', '/gdrive/My Drive/w266_NLP/test-PHI/115-03.xml', '/gdrive/My Drive/w266_NLP/test-PHI/115-02.xml', '/gdrive/My Drive/w266_NLP/test-PHI/116-02.xml', '/gdrive/My Drive/w266_NLP/test-PHI/116-01.xml', '/gdrive/My Drive/w266_NLP/test-PHI/116-03.xml', '/gdrive/My Drive/w266_NLP/test-PHI/116-04.xml', '/gdrive/My Drive/w266_NLP/test-PHI/118-05.xml', '/gdrive/My Drive/w266_NLP/test-PHI/117-02.xml', '/gdrive/My Drive/w266_NLP/test-PHI/118-04.xml', '/gdrive/My Drive/w266_NLP/test-PHI/117-01.xml', '/gdrive/My Drive/w266_NLP/test-PHI/116-05.xml', '/gdrive/My Drive/w266_NLP/test-PHI/118-03.xml', '/gdrive/My Drive/w266_NLP/test-PHI/119-01.xml', '/gdrive/My Drive/w266_NLP/test-PHI/118-02.xml', '/gdrive/My Drive/w266_NLP/test-PHI/118-01.xml', '/gdrive/My Drive/w266_NLP/test-PHI/119-02.xml', '/gdrive/My Drive/w266_NLP/test-PHI/130-02.xml', '/gdrive/My Drive/w266_NLP/test-PHI/119-04.xml', '/gdrive/My Drive/w266_NLP/test-PHI/130-04.xml', '/gdrive/My Drive/w266_NLP/test-PHI/130-03.xml', '/gdrive/My Drive/w266_NLP/test-PHI/130-05.xml', '/gdrive/My Drive/w266_NLP/test-PHI/119-05.xml', '/gdrive/My Drive/w266_NLP/test-PHI/131-01.xml', '/gdrive/My Drive/w266_NLP/test-PHI/119-03.xml', '/gdrive/My Drive/w266_NLP/test-PHI/130-01.xml', '/gdrive/My Drive/w266_NLP/test-PHI/131-02.xml', '/gdrive/My Drive/w266_NLP/test-PHI/132-02.xml', '/gdrive/My Drive/w266_NLP/test-PHI/132-01.xml', '/gdrive/My Drive/w266_NLP/test-PHI/131-05.xml', '/gdrive/My Drive/w266_NLP/test-PHI/131-04.xml', '/gdrive/My Drive/w266_NLP/test-PHI/131-03.xml', '/gdrive/My Drive/w266_NLP/test-PHI/132-03.xml', '/gdrive/My Drive/w266_NLP/test-PHI/134-01.xml', '/gdrive/My Drive/w266_NLP/test-PHI/132-05.xml', '/gdrive/My Drive/w266_NLP/test-PHI/132-04.xml', '/gdrive/My Drive/w266_NLP/test-PHI/134-02.xml', '/gdrive/My Drive/w266_NLP/test-PHI/134-03.xml', '/gdrive/My Drive/w266_NLP/test-PHI/135-02.xml', '/gdrive/My Drive/w266_NLP/test-PHI/134-04.xml', '/gdrive/My Drive/w266_NLP/test-PHI/135-01.xml', '/gdrive/My Drive/w266_NLP/test-PHI/134-05.xml', '/gdrive/My Drive/w266_NLP/test-PHI/135-03.xml', '/gdrive/My Drive/w266_NLP/test-PHI/135-04.xml', '/gdrive/My Drive/w266_NLP/test-PHI/136-01.xml', '/gdrive/My Drive/w266_NLP/test-PHI/136-02.xml', '/gdrive/My Drive/w266_NLP/test-PHI/136-03.xml', '/gdrive/My Drive/w266_NLP/test-PHI/136-05.xml', '/gdrive/My Drive/w266_NLP/test-PHI/136-04.xml', '/gdrive/My Drive/w266_NLP/test-PHI/137-01.xml', '/gdrive/My Drive/w266_NLP/test-PHI/137-02.xml', '/gdrive/My Drive/w266_NLP/test-PHI/137-04.xml', '/gdrive/My Drive/w266_NLP/test-PHI/137-03.xml', '/gdrive/My Drive/w266_NLP/test-PHI/138-01.xml', '/gdrive/My Drive/w266_NLP/test-PHI/138-02.xml', '/gdrive/My Drive/w266_NLP/test-PHI/138-03.xml', '/gdrive/My Drive/w266_NLP/test-PHI/138-04.xml', '/gdrive/My Drive/w266_NLP/test-PHI/139-01.xml', '/gdrive/My Drive/w266_NLP/test-PHI/139-02.xml', '/gdrive/My Drive/w266_NLP/test-PHI/160-03.xml', '/gdrive/My Drive/w266_NLP/test-PHI/160-02.xml', '/gdrive/My Drive/w266_NLP/test-PHI/139-05.xml', '/gdrive/My Drive/w266_NLP/test-PHI/139-03.xml', '/gdrive/My Drive/w266_NLP/test-PHI/138-05.xml', '/gdrive/My Drive/w266_NLP/test-PHI/160-01.xml', '/gdrive/My Drive/w266_NLP/test-PHI/139-04.xml', '/gdrive/My Drive/w266_NLP/test-PHI/160-04.xml', '/gdrive/My Drive/w266_NLP/test-PHI/161-01.xml', '/gdrive/My Drive/w266_NLP/test-PHI/162-01.xml', '/gdrive/My Drive/w266_NLP/test-PHI/161-02.xml', '/gdrive/My Drive/w266_NLP/test-PHI/161-04.xml', '/gdrive/My Drive/w266_NLP/test-PHI/161-05.xml', '/gdrive/My Drive/w266_NLP/test-PHI/160-05.xml', '/gdrive/My Drive/w266_NLP/test-PHI/161-03.xml', '/gdrive/My Drive/w266_NLP/test-PHI/162-03.xml', '/gdrive/My Drive/w266_NLP/test-PHI/162-02.xml', '/gdrive/My Drive/w266_NLP/test-PHI/162-04.xml', '/gdrive/My Drive/w266_NLP/test-PHI/162-05.xml', '/gdrive/My Drive/w266_NLP/test-PHI/163-04.xml', '/gdrive/My Drive/w266_NLP/test-PHI/163-01.xml', '/gdrive/My Drive/w266_NLP/test-PHI/163-03.xml', '/gdrive/My Drive/w266_NLP/test-PHI/163-05.xml', '/gdrive/My Drive/w266_NLP/test-PHI/163-02.xml', '/gdrive/My Drive/w266_NLP/test-PHI/164-01.xml', '/gdrive/My Drive/w266_NLP/test-PHI/164-03.xml', '/gdrive/My Drive/w266_NLP/test-PHI/164-02.xml', '/gdrive/My Drive/w266_NLP/test-PHI/164-04.xml', '/gdrive/My Drive/w266_NLP/test-PHI/165-01.xml', '/gdrive/My Drive/w266_NLP/test-PHI/165-04.xml', '/gdrive/My Drive/w266_NLP/test-PHI/164-05.xml', '/gdrive/My Drive/w266_NLP/test-PHI/166-01.xml', '/gdrive/My Drive/w266_NLP/test-PHI/165-03.xml', '/gdrive/My Drive/w266_NLP/test-PHI/165-02.xml', '/gdrive/My Drive/w266_NLP/test-PHI/166-04.xml', '/gdrive/My Drive/w266_NLP/test-PHI/166-03.xml', '/gdrive/My Drive/w266_NLP/test-PHI/166-02.xml', '/gdrive/My Drive/w266_NLP/test-PHI/167-01.xml', '/gdrive/My Drive/w266_NLP/test-PHI/168-03.xml', '/gdrive/My Drive/w266_NLP/test-PHI/167-02.xml', '/gdrive/My Drive/w266_NLP/test-PHI/167-04.xml', '/gdrive/My Drive/w266_NLP/test-PHI/168-02.xml', '/gdrive/My Drive/w266_NLP/test-PHI/167-03.xml', '/gdrive/My Drive/w266_NLP/test-PHI/168-01.xml', '/gdrive/My Drive/w266_NLP/test-PHI/169-02.xml', '/gdrive/My Drive/w266_NLP/test-PHI/169-01.xml', '/gdrive/My Drive/w266_NLP/test-PHI/168-04.xml', '/gdrive/My Drive/w266_NLP/test-PHI/169-03.xml', '/gdrive/My Drive/w266_NLP/test-PHI/190-04.xml', '/gdrive/My Drive/w266_NLP/test-PHI/191-01.xml', '/gdrive/My Drive/w266_NLP/test-PHI/191-03.xml', '/gdrive/My Drive/w266_NLP/test-PHI/190-03.xml', '/gdrive/My Drive/w266_NLP/test-PHI/190-01.xml', '/gdrive/My Drive/w266_NLP/test-PHI/191-02.xml', '/gdrive/My Drive/w266_NLP/test-PHI/190-02.xml', '/gdrive/My Drive/w266_NLP/test-PHI/169-04.xml', '/gdrive/My Drive/w266_NLP/test-PHI/190-05.xml', '/gdrive/My Drive/w266_NLP/test-PHI/191-04.xml', '/gdrive/My Drive/w266_NLP/test-PHI/193-04.xml', '/gdrive/My Drive/w266_NLP/test-PHI/193-03.xml', '/gdrive/My Drive/w266_NLP/test-PHI/193-02.xml', '/gdrive/My Drive/w266_NLP/test-PHI/193-01.xml', '/gdrive/My Drive/w266_NLP/test-PHI/193-05.xml', '/gdrive/My Drive/w266_NLP/test-PHI/192-02.xml', '/gdrive/My Drive/w266_NLP/test-PHI/192-04.xml', '/gdrive/My Drive/w266_NLP/test-PHI/192-01.xml', '/gdrive/My Drive/w266_NLP/test-PHI/192-03.xml', '/gdrive/My Drive/w266_NLP/test-PHI/194-01.xml', '/gdrive/My Drive/w266_NLP/test-PHI/194-04.xml', '/gdrive/My Drive/w266_NLP/test-PHI/194-05.xml', '/gdrive/My Drive/w266_NLP/test-PHI/194-03.xml', '/gdrive/My Drive/w266_NLP/test-PHI/194-02.xml', '/gdrive/My Drive/w266_NLP/test-PHI/195-03.xml', '/gdrive/My Drive/w266_NLP/test-PHI/196-02.xml', '/gdrive/My Drive/w266_NLP/test-PHI/196-01.xml', '/gdrive/My Drive/w266_NLP/test-PHI/195-01.xml', '/gdrive/My Drive/w266_NLP/test-PHI/195-02.xml', '/gdrive/My Drive/w266_NLP/test-PHI/196-03.xml', '/gdrive/My Drive/w266_NLP/test-PHI/196-05.xml', '/gdrive/My Drive/w266_NLP/test-PHI/197-01.xml', '/gdrive/My Drive/w266_NLP/test-PHI/197-03.xml', '/gdrive/My Drive/w266_NLP/test-PHI/197-05.xml', '/gdrive/My Drive/w266_NLP/test-PHI/197-04.xml', '/gdrive/My Drive/w266_NLP/test-PHI/198-01.xml', '/gdrive/My Drive/w266_NLP/test-PHI/198-02.xml', '/gdrive/My Drive/w266_NLP/test-PHI/197-02.xml', '/gdrive/My Drive/w266_NLP/test-PHI/196-04.xml', '/gdrive/My Drive/w266_NLP/test-PHI/198-03.xml', '/gdrive/My Drive/w266_NLP/test-PHI/198-04.xml', '/gdrive/My Drive/w266_NLP/test-PHI/199-04.xml', '/gdrive/My Drive/w266_NLP/test-PHI/199-01.xml', '/gdrive/My Drive/w266_NLP/test-PHI/199-05.xml', '/gdrive/My Drive/w266_NLP/test-PHI/199-03.xml', '/gdrive/My Drive/w266_NLP/test-PHI/199-02.xml', '/gdrive/My Drive/w266_NLP/test-PHI/200-01.xml', '/gdrive/My Drive/w266_NLP/test-PHI/200-02.xml', '/gdrive/My Drive/w266_NLP/test-PHI/200-03.xml', '/gdrive/My Drive/w266_NLP/test-PHI/200-04.xml', '/gdrive/My Drive/w266_NLP/test-PHI/201-03.xml', '/gdrive/My Drive/w266_NLP/test-PHI/201-01.xml', '/gdrive/My Drive/w266_NLP/test-PHI/201-04.xml', '/gdrive/My Drive/w266_NLP/test-PHI/201-02.xml', '/gdrive/My Drive/w266_NLP/test-PHI/203-01.xml', '/gdrive/My Drive/w266_NLP/test-PHI/201-05.xml', '/gdrive/My Drive/w266_NLP/test-PHI/202-02.xml', '/gdrive/My Drive/w266_NLP/test-PHI/202-03.xml', '/gdrive/My Drive/w266_NLP/test-PHI/202-01.xml', '/gdrive/My Drive/w266_NLP/test-PHI/203-02.xml', '/gdrive/My Drive/w266_NLP/test-PHI/203-04.xml', '/gdrive/My Drive/w266_NLP/test-PHI/204-01.xml', '/gdrive/My Drive/w266_NLP/test-PHI/205-02.xml', '/gdrive/My Drive/w266_NLP/test-PHI/204-03.xml', '/gdrive/My Drive/w266_NLP/test-PHI/204-04.xml', '/gdrive/My Drive/w266_NLP/test-PHI/204-02.xml', '/gdrive/My Drive/w266_NLP/test-PHI/203-05.xml', '/gdrive/My Drive/w266_NLP/test-PHI/203-03.xml', '/gdrive/My Drive/w266_NLP/test-PHI/205-01.xml', '/gdrive/My Drive/w266_NLP/test-PHI/205-03.xml', '/gdrive/My Drive/w266_NLP/test-PHI/206-03.xml', '/gdrive/My Drive/w266_NLP/test-PHI/206-02.xml', '/gdrive/My Drive/w266_NLP/test-PHI/208-01.xml', '/gdrive/My Drive/w266_NLP/test-PHI/207-02.xml', '/gdrive/My Drive/w266_NLP/test-PHI/207-03.xml', '/gdrive/My Drive/w266_NLP/test-PHI/206-01.xml', '/gdrive/My Drive/w266_NLP/test-PHI/206-04.xml', '/gdrive/My Drive/w266_NLP/test-PHI/207-04.xml', '/gdrive/My Drive/w266_NLP/test-PHI/207-01.xml', '/gdrive/My Drive/w266_NLP/test-PHI/208-02.xml', '/gdrive/My Drive/w266_NLP/test-PHI/210-01.xml', '/gdrive/My Drive/w266_NLP/test-PHI/209-01.xml', '/gdrive/My Drive/w266_NLP/test-PHI/209-04.xml', '/gdrive/My Drive/w266_NLP/test-PHI/209-02.xml', '/gdrive/My Drive/w266_NLP/test-PHI/208-03.xml', '/gdrive/My Drive/w266_NLP/test-PHI/209-03.xml', '/gdrive/My Drive/w266_NLP/test-PHI/210-04.xml', '/gdrive/My Drive/w266_NLP/test-PHI/210-03.xml', '/gdrive/My Drive/w266_NLP/test-PHI/210-02.xml', '/gdrive/My Drive/w266_NLP/test-PHI/211-01.xml', '/gdrive/My Drive/w266_NLP/test-PHI/213-02.xml', '/gdrive/My Drive/w266_NLP/test-PHI/211-03.xml', '/gdrive/My Drive/w266_NLP/test-PHI/211-04.xml', '/gdrive/My Drive/w266_NLP/test-PHI/212-02.xml', '/gdrive/My Drive/w266_NLP/test-PHI/211-02.xml', '/gdrive/My Drive/w266_NLP/test-PHI/213-01.xml', '/gdrive/My Drive/w266_NLP/test-PHI/211-05.xml', '/gdrive/My Drive/w266_NLP/test-PHI/212-01.xml', '/gdrive/My Drive/w266_NLP/test-PHI/212-03.xml', '/gdrive/My Drive/w266_NLP/test-PHI/213-03.xml', '/gdrive/My Drive/w266_NLP/test-PHI/215-01.xml', '/gdrive/My Drive/w266_NLP/test-PHI/214-01.xml', '/gdrive/My Drive/w266_NLP/test-PHI/214-03.xml', '/gdrive/My Drive/w266_NLP/test-PHI/214-04.xml', '/gdrive/My Drive/w266_NLP/test-PHI/215-03.xml', '/gdrive/My Drive/w266_NLP/test-PHI/213-04.xml', '/gdrive/My Drive/w266_NLP/test-PHI/215-02.xml', '/gdrive/My Drive/w266_NLP/test-PHI/215-04.xml', '/gdrive/My Drive/w266_NLP/test-PHI/214-02.xml', '/gdrive/My Drive/w266_NLP/test-PHI/215-05.xml', '/gdrive/My Drive/w266_NLP/test-PHI/216-03.xml', '/gdrive/My Drive/w266_NLP/test-PHI/216-02.xml', '/gdrive/My Drive/w266_NLP/test-PHI/216-01.xml', '/gdrive/My Drive/w266_NLP/test-PHI/216-04.xml', '/gdrive/My Drive/w266_NLP/test-PHI/216-05.xml', '/gdrive/My Drive/w266_NLP/test-PHI/217-04.xml', '/gdrive/My Drive/w266_NLP/test-PHI/217-03.xml', '/gdrive/My Drive/w266_NLP/test-PHI/217-01.xml', '/gdrive/My Drive/w266_NLP/test-PHI/217-02.xml', '/gdrive/My Drive/w266_NLP/test-PHI/218-01.xml', '/gdrive/My Drive/w266_NLP/test-PHI/218-04.xml', '/gdrive/My Drive/w266_NLP/test-PHI/219-01.xml', '/gdrive/My Drive/w266_NLP/test-PHI/218-02.xml', '/gdrive/My Drive/w266_NLP/test-PHI/218-05.xml', '/gdrive/My Drive/w266_NLP/test-PHI/218-03.xml', '/gdrive/My Drive/w266_NLP/test-PHI/219-02.xml', '/gdrive/My Drive/w266_NLP/test-PHI/219-03.xml', '/gdrive/My Drive/w266_NLP/test-PHI/219-05.xml', '/gdrive/My Drive/w266_NLP/test-PHI/219-04.xml', '/gdrive/My Drive/w266_NLP/test-PHI/230-01.xml', '/gdrive/My Drive/w266_NLP/test-PHI/231-04.xml', '/gdrive/My Drive/w266_NLP/test-PHI/230-02.xml', '/gdrive/My Drive/w266_NLP/test-PHI/232-01.xml', '/gdrive/My Drive/w266_NLP/test-PHI/230-03.xml', '/gdrive/My Drive/w266_NLP/test-PHI/231-02.xml', '/gdrive/My Drive/w266_NLP/test-PHI/232-02.xml', '/gdrive/My Drive/w266_NLP/test-PHI/231-03.xml', '/gdrive/My Drive/w266_NLP/test-PHI/231-05.xml', '/gdrive/My Drive/w266_NLP/test-PHI/231-01.xml', '/gdrive/My Drive/w266_NLP/test-PHI/232-03.xml', '/gdrive/My Drive/w266_NLP/test-PHI/233-04.xml', '/gdrive/My Drive/w266_NLP/test-PHI/233-02.xml', '/gdrive/My Drive/w266_NLP/test-PHI/233-01.xml', '/gdrive/My Drive/w266_NLP/test-PHI/234-03.xml', '/gdrive/My Drive/w266_NLP/test-PHI/232-04.xml', '/gdrive/My Drive/w266_NLP/test-PHI/233-05.xml', '/gdrive/My Drive/w266_NLP/test-PHI/234-02.xml', '/gdrive/My Drive/w266_NLP/test-PHI/233-03.xml', '/gdrive/My Drive/w266_NLP/test-PHI/234-01.xml', '/gdrive/My Drive/w266_NLP/test-PHI/234-04.xml', '/gdrive/My Drive/w266_NLP/test-PHI/235-03.xml', '/gdrive/My Drive/w266_NLP/test-PHI/236-02.xml', '/gdrive/My Drive/w266_NLP/test-PHI/234-05.xml', '/gdrive/My Drive/w266_NLP/test-PHI/235-04.xml', '/gdrive/My Drive/w266_NLP/test-PHI/235-01.xml', '/gdrive/My Drive/w266_NLP/test-PHI/235-02.xml', '/gdrive/My Drive/w266_NLP/test-PHI/235-05.xml', '/gdrive/My Drive/w266_NLP/test-PHI/236-01.xml', '/gdrive/My Drive/w266_NLP/test-PHI/236-03.xml', '/gdrive/My Drive/w266_NLP/test-PHI/236-04.xml', '/gdrive/My Drive/w266_NLP/test-PHI/236-05.xml', '/gdrive/My Drive/w266_NLP/test-PHI/237-03.xml', '/gdrive/My Drive/w266_NLP/test-PHI/237-02.xml', '/gdrive/My Drive/w266_NLP/test-PHI/237-04.xml', '/gdrive/My Drive/w266_NLP/test-PHI/238-01.xml', '/gdrive/My Drive/w266_NLP/test-PHI/237-01.xml', '/gdrive/My Drive/w266_NLP/test-PHI/238-02.xml', '/gdrive/My Drive/w266_NLP/test-PHI/238-04.xml', '/gdrive/My Drive/w266_NLP/test-PHI/238-03.xml', '/gdrive/My Drive/w266_NLP/test-PHI/239-01.xml', '/gdrive/My Drive/w266_NLP/test-PHI/239-02.xml', '/gdrive/My Drive/w266_NLP/test-PHI/260-01.xml', '/gdrive/My Drive/w266_NLP/test-PHI/239-03.xml', '/gdrive/My Drive/w266_NLP/test-PHI/239-04.xml', '/gdrive/My Drive/w266_NLP/test-PHI/260-05.xml', '/gdrive/My Drive/w266_NLP/test-PHI/260-03.xml', '/gdrive/My Drive/w266_NLP/test-PHI/260-02.xml', '/gdrive/My Drive/w266_NLP/test-PHI/260-04.xml', '/gdrive/My Drive/w266_NLP/test-PHI/262-01.xml', '/gdrive/My Drive/w266_NLP/test-PHI/262-02.xml', '/gdrive/My Drive/w266_NLP/test-PHI/264-01.xml', '/gdrive/My Drive/w266_NLP/test-PHI/263-02.xml', '/gdrive/My Drive/w266_NLP/test-PHI/263-01.xml', '/gdrive/My Drive/w266_NLP/test-PHI/264-02.xml', '/gdrive/My Drive/w266_NLP/test-PHI/263-04.xml', '/gdrive/My Drive/w266_NLP/test-PHI/262-03.xml', '/gdrive/My Drive/w266_NLP/test-PHI/262-04.xml', '/gdrive/My Drive/w266_NLP/test-PHI/263-03.xml', '/gdrive/My Drive/w266_NLP/test-PHI/263-05.xml', '/gdrive/My Drive/w266_NLP/test-PHI/264-03.xml', '/gdrive/My Drive/w266_NLP/test-PHI/265-02.xml', '/gdrive/My Drive/w266_NLP/test-PHI/265-03.xml', '/gdrive/My Drive/w266_NLP/test-PHI/266-01.xml', '/gdrive/My Drive/w266_NLP/test-PHI/265-04.xml', '/gdrive/My Drive/w266_NLP/test-PHI/266-04.xml', '/gdrive/My Drive/w266_NLP/test-PHI/266-03.xml', '/gdrive/My Drive/w266_NLP/test-PHI/264-04.xml', '/gdrive/My Drive/w266_NLP/test-PHI/265-01.xml', '/gdrive/My Drive/w266_NLP/test-PHI/266-02.xml', '/gdrive/My Drive/w266_NLP/test-PHI/267-01.xml', '/gdrive/My Drive/w266_NLP/test-PHI/268-03.xml', '/gdrive/My Drive/w266_NLP/test-PHI/267-03.xml', '/gdrive/My Drive/w266_NLP/test-PHI/269-02.xml', '/gdrive/My Drive/w266_NLP/test-PHI/267-02.xml', '/gdrive/My Drive/w266_NLP/test-PHI/267-04.xml', '/gdrive/My Drive/w266_NLP/test-PHI/268-04.xml', '/gdrive/My Drive/w266_NLP/test-PHI/268-01.xml', '/gdrive/My Drive/w266_NLP/test-PHI/269-01.xml', '/gdrive/My Drive/w266_NLP/test-PHI/268-02.xml', '/gdrive/My Drive/w266_NLP/test-PHI/269-03.xml', '/gdrive/My Drive/w266_NLP/test-PHI/311-01.xml', '/gdrive/My Drive/w266_NLP/test-PHI/310-01.xml', '/gdrive/My Drive/w266_NLP/test-PHI/310-04.xml', '/gdrive/My Drive/w266_NLP/test-PHI/269-04.xml', '/gdrive/My Drive/w266_NLP/test-PHI/310-02.xml', '/gdrive/My Drive/w266_NLP/test-PHI/310-03.xml', '/gdrive/My Drive/w266_NLP/test-PHI/311-02.xml', '/gdrive/My Drive/w266_NLP/test-PHI/311-03.xml', '/gdrive/My Drive/w266_NLP/test-PHI/311-04.xml', '/gdrive/My Drive/w266_NLP/test-PHI/311-05.xml', '/gdrive/My Drive/w266_NLP/test-PHI/312-01.xml', '/gdrive/My Drive/w266_NLP/test-PHI/312-04.xml', '/gdrive/My Drive/w266_NLP/test-PHI/312-02.xml', '/gdrive/My Drive/w266_NLP/test-PHI/312-03.xml', '/gdrive/My Drive/w266_NLP/test-PHI/313-04.xml', '/gdrive/My Drive/w266_NLP/test-PHI/314-01.xml', '/gdrive/My Drive/w266_NLP/test-PHI/313-02.xml', '/gdrive/My Drive/w266_NLP/test-PHI/313-03.xml', '/gdrive/My Drive/w266_NLP/test-PHI/313-01.xml', '/gdrive/My Drive/w266_NLP/test-PHI/314-02.xml', '/gdrive/My Drive/w266_NLP/test-PHI/316-02.xml', '/gdrive/My Drive/w266_NLP/test-PHI/316-01.xml', '/gdrive/My Drive/w266_NLP/test-PHI/315-01.xml', '/gdrive/My Drive/w266_NLP/test-PHI/315-03.xml', '/gdrive/My Drive/w266_NLP/test-PHI/314-03.xml', '/gdrive/My Drive/w266_NLP/test-PHI/314-04.xml', '/gdrive/My Drive/w266_NLP/test-PHI/314-05.xml', '/gdrive/My Drive/w266_NLP/test-PHI/315-04.xml', '/gdrive/My Drive/w266_NLP/test-PHI/315-02.xml', '/gdrive/My Drive/w266_NLP/test-PHI/316-03.xml', '/gdrive/My Drive/w266_NLP/test-PHI/317-01.xml', '/gdrive/My Drive/w266_NLP/test-PHI/317-05.xml', '/gdrive/My Drive/w266_NLP/test-PHI/316-04.xml', '/gdrive/My Drive/w266_NLP/test-PHI/317-04.xml', '/gdrive/My Drive/w266_NLP/test-PHI/317-03.xml', '/gdrive/My Drive/w266_NLP/test-PHI/318-03.xml', '/gdrive/My Drive/w266_NLP/test-PHI/318-01.xml', '/gdrive/My Drive/w266_NLP/test-PHI/317-02.xml', '/gdrive/My Drive/w266_NLP/test-PHI/318-02.xml', '/gdrive/My Drive/w266_NLP/test-PHI/319-01.xml', '/gdrive/My Drive/w266_NLP/test-PHI/319-02.xml', '/gdrive/My Drive/w266_NLP/test-PHI/319-04.xml', '/gdrive/My Drive/w266_NLP/test-PHI/340-04.xml', '/gdrive/My Drive/w266_NLP/test-PHI/340-02.xml', '/gdrive/My Drive/w266_NLP/test-PHI/340-01.xml', '/gdrive/My Drive/w266_NLP/test-PHI/340-03.xml', '/gdrive/My Drive/w266_NLP/test-PHI/319-03.xml', '/gdrive/My Drive/w266_NLP/test-PHI/318-04.xml', '/gdrive/My Drive/w266_NLP/test-PHI/319-05.xml', '/gdrive/My Drive/w266_NLP/test-PHI/341-01.xml', '/gdrive/My Drive/w266_NLP/test-PHI/341-02.xml', '/gdrive/My Drive/w266_NLP/test-PHI/341-03.xml', '/gdrive/My Drive/w266_NLP/test-PHI/341-04.xml', '/gdrive/My Drive/w266_NLP/test-PHI/341-05.xml', '/gdrive/My Drive/w266_NLP/test-PHI/342-02.xml', '/gdrive/My Drive/w266_NLP/test-PHI/343-01.xml', '/gdrive/My Drive/w266_NLP/test-PHI/342-04.xml', '/gdrive/My Drive/w266_NLP/test-PHI/342-01.xml', '/gdrive/My Drive/w266_NLP/test-PHI/342-03.xml', '/gdrive/My Drive/w266_NLP/test-PHI/343-02.xml', '/gdrive/My Drive/w266_NLP/test-PHI/343-04.xml', '/gdrive/My Drive/w266_NLP/test-PHI/344-03.xml', '/gdrive/My Drive/w266_NLP/test-PHI/345-03.xml', '/gdrive/My Drive/w266_NLP/test-PHI/345-01.xml', '/gdrive/My Drive/w266_NLP/test-PHI/344-02.xml', '/gdrive/My Drive/w266_NLP/test-PHI/345-02.xml', '/gdrive/My Drive/w266_NLP/test-PHI/344-01.xml', '/gdrive/My Drive/w266_NLP/test-PHI/344-04.xml', '/gdrive/My Drive/w266_NLP/test-PHI/343-03.xml', '/gdrive/My Drive/w266_NLP/test-PHI/345-04.xml', '/gdrive/My Drive/w266_NLP/test-PHI/348-01.xml', '/gdrive/My Drive/w266_NLP/test-PHI/346-03.xml', '/gdrive/My Drive/w266_NLP/test-PHI/347-03.xml', '/gdrive/My Drive/w266_NLP/test-PHI/346-04.xml', '/gdrive/My Drive/w266_NLP/test-PHI/347-01.xml', '/gdrive/My Drive/w266_NLP/test-PHI/346-01.xml', '/gdrive/My Drive/w266_NLP/test-PHI/347-02.xml', '/gdrive/My Drive/w266_NLP/test-PHI/346-02.xml', '/gdrive/My Drive/w266_NLP/test-PHI/347-04.xml', '/gdrive/My Drive/w266_NLP/test-PHI/348-02.xml', '/gdrive/My Drive/w266_NLP/test-PHI/349-04.xml', '/gdrive/My Drive/w266_NLP/test-PHI/370-01.xml', '/gdrive/My Drive/w266_NLP/test-PHI/349-01.xml', '/gdrive/My Drive/w266_NLP/test-PHI/349-03.xml', '/gdrive/My Drive/w266_NLP/test-PHI/348-05.xml', '/gdrive/My Drive/w266_NLP/test-PHI/348-04.xml', '/gdrive/My Drive/w266_NLP/test-PHI/349-02.xml', '/gdrive/My Drive/w266_NLP/test-PHI/348-03.xml', '/gdrive/My Drive/w266_NLP/test-PHI/370-02.xml', '/gdrive/My Drive/w266_NLP/test-PHI/370-03.xml', '/gdrive/My Drive/w266_NLP/test-PHI/371-04.xml', '/gdrive/My Drive/w266_NLP/test-PHI/371-03.xml', '/gdrive/My Drive/w266_NLP/test-PHI/371-05.xml', '/gdrive/My Drive/w266_NLP/test-PHI/371-02.xml', '/gdrive/My Drive/w266_NLP/test-PHI/372-03.xml', '/gdrive/My Drive/w266_NLP/test-PHI/371-01.xml', '/gdrive/My Drive/w266_NLP/test-PHI/372-02.xml', '/gdrive/My Drive/w266_NLP/test-PHI/370-04.xml', '/gdrive/My Drive/w266_NLP/test-PHI/372-01.xml', '/gdrive/My Drive/w266_NLP/test-PHI/372-04.xml', '/gdrive/My Drive/w266_NLP/test-PHI/373-03.xml', '/gdrive/My Drive/w266_NLP/test-PHI/373-04.xml', '/gdrive/My Drive/w266_NLP/test-PHI/373-05.xml', '/gdrive/My Drive/w266_NLP/test-PHI/373-02.xml', '/gdrive/My Drive/w266_NLP/test-PHI/373-01.xml', '/gdrive/My Drive/w266_NLP/test-PHI/374-03.xml', '/gdrive/My Drive/w266_NLP/test-PHI/374-01.xml', '/gdrive/My Drive/w266_NLP/test-PHI/374-02.xml', '/gdrive/My Drive/w266_NLP/test-PHI/374-04.xml', '/gdrive/My Drive/w266_NLP/test-PHI/374-05.xml', '/gdrive/My Drive/w266_NLP/test-PHI/375-04.xml', '/gdrive/My Drive/w266_NLP/test-PHI/376-04.xml', '/gdrive/My Drive/w266_NLP/test-PHI/376-02.xml', '/gdrive/My Drive/w266_NLP/test-PHI/376-03.xml', '/gdrive/My Drive/w266_NLP/test-PHI/377-01.xml', '/gdrive/My Drive/w266_NLP/test-PHI/375-01.xml', '/gdrive/My Drive/w266_NLP/test-PHI/375-03.xml', '/gdrive/My Drive/w266_NLP/test-PHI/376-01.xml', '/gdrive/My Drive/w266_NLP/test-PHI/375-02.xml', '/gdrive/My Drive/w266_NLP/test-PHI/377-02.xml', '/gdrive/My Drive/w266_NLP/test-PHI/378-01.xml', '/gdrive/My Drive/w266_NLP/test-PHI/378-04.xml', '/gdrive/My Drive/w266_NLP/test-PHI/378-02.xml', '/gdrive/My Drive/w266_NLP/test-PHI/377-03.xml', '/gdrive/My Drive/w266_NLP/test-PHI/378-03.xml', '/gdrive/My Drive/w266_NLP/test-PHI/379-03.xml', '/gdrive/My Drive/w266_NLP/test-PHI/379-01.xml', '/gdrive/My Drive/w266_NLP/test-PHI/378-05.xml', '/gdrive/My Drive/w266_NLP/test-PHI/379-02.xml', '/gdrive/My Drive/w266_NLP/test-PHI/379-04.xml', '/gdrive/My Drive/w266_NLP/test-PHI/380-02.xml', '/gdrive/My Drive/w266_NLP/test-PHI/380-04.xml', '/gdrive/My Drive/w266_NLP/test-PHI/380-03.xml', '/gdrive/My Drive/w266_NLP/test-PHI/380-01.xml', '/gdrive/My Drive/w266_NLP/test-PHI/379-05.xml', '/gdrive/My Drive/w266_NLP/test-PHI/381-02.xml', '/gdrive/My Drive/w266_NLP/test-PHI/381-01.xml', '/gdrive/My Drive/w266_NLP/test-PHI/381-03.xml', '/gdrive/My Drive/w266_NLP/test-PHI/381-04.xml', '/gdrive/My Drive/w266_NLP/test-PHI/382-01.xml', '/gdrive/My Drive/w266_NLP/test-PHI/383-02.xml', '/gdrive/My Drive/w266_NLP/test-PHI/383-01.xml', '/gdrive/My Drive/w266_NLP/test-PHI/383-03.xml', '/gdrive/My Drive/w266_NLP/test-PHI/382-03.xml', '/gdrive/My Drive/w266_NLP/test-PHI/383-05.xml', '/gdrive/My Drive/w266_NLP/test-PHI/382-04.xml', '/gdrive/My Drive/w266_NLP/test-PHI/382-02.xml', '/gdrive/My Drive/w266_NLP/test-PHI/383-04.xml', '/gdrive/My Drive/w266_NLP/test-PHI/384-01.xml', '/gdrive/My Drive/w266_NLP/test-PHI/384-02.xml', '/gdrive/My Drive/w266_NLP/test-PHI/385-05.xml', '/gdrive/My Drive/w266_NLP/test-PHI/385-03.xml', '/gdrive/My Drive/w266_NLP/test-PHI/384-03.xml', '/gdrive/My Drive/w266_NLP/test-PHI/385-01.xml', '/gdrive/My Drive/w266_NLP/test-PHI/385-02.xml', '/gdrive/My Drive/w266_NLP/test-PHI/385-04.xml', '/gdrive/My Drive/w266_NLP/test-PHI/386-02.xml', '/gdrive/My Drive/w266_NLP/test-PHI/384-04.xml', '/gdrive/My Drive/w266_NLP/test-PHI/386-01.xml', '/gdrive/My Drive/w266_NLP/test-PHI/386-03.xml', '/gdrive/My Drive/w266_NLP/test-PHI/387-01.xml', '/gdrive/My Drive/w266_NLP/test-PHI/387-02.xml', '/gdrive/My Drive/w266_NLP/test-PHI/388-01.xml', '/gdrive/My Drive/w266_NLP/test-PHI/387-03.xml', '/gdrive/My Drive/w266_NLP/test-PHI/388-02.xml', '/gdrive/My Drive/w266_NLP/test-PHI/387-04.xml', '/gdrive/My Drive/w266_NLP/test-PHI/386-04.xml', '/gdrive/My Drive/w266_NLP/test-PHI/388-03.xml', '/gdrive/My Drive/w266_NLP/test-PHI/388-04.xml', '/gdrive/My Drive/w266_NLP/test-PHI/388-05.xml', '/gdrive/My Drive/w266_NLP/test-PHI/389-01.xml', '/gdrive/My Drive/w266_NLP/test-PHI/389-02.xml', '/gdrive/My Drive/w266_NLP/test-PHI/389-03.xml']\n"
          ],
          "name": "stdout"
        }
      ]
    },
    {
      "cell_type": "markdown",
      "metadata": {
        "id": "DHkiAyKCOOfY",
        "colab_type": "text"
      },
      "source": [
        "# Process Data Annotation"
      ]
    },
    {
      "cell_type": "markdown",
      "metadata": {
        "id": "46iA8aDpOecR",
        "colab_type": "text"
      },
      "source": [
        "The tag generator process the annotation into a dataframe."
      ]
    },
    {
      "cell_type": "code",
      "metadata": {
        "id": "R-mR_51sNr7O",
        "colab_type": "code",
        "colab": {}
      },
      "source": [
        "def tag_generator(file):\n",
        "  '''The function extract the tags from the EHR record and turn them into pd dataframe'''\n",
        "  tree = ET.parse(file)\n",
        "  root=tree.getroot()\n",
        "  \n",
        "  PHI_category=['NAME','PROFESSION','LOCATION','AGE','DATE','CONTACT','ID']# Here are the seven PHI category defined by i2b2\n",
        "  #PHI_category=[category]\n",
        "  tag_list=[]#An empty list to hold all dictionary items\n",
        "  for category in PHI_category:\n",
        "    for tag in root.iter():\n",
        "      if tag.tag==category:#skip if a specific tag is not found\n",
        "          tag.attrib['Category']=category #add a column on category\n",
        "          tag.attrib['File']=file[len(file)-10:len(file)-4] # add a column to indicate file name\n",
        "          tag_list.append(tag.attrib)\n",
        "  temp_df=pd.DataFrame(tag_list)\n",
        "      \n",
        "  return temp_df"
      ],
      "execution_count": 0,
      "outputs": []
    },
    {
      "cell_type": "code",
      "metadata": {
        "id": "KZMzXvl6iPix",
        "colab_type": "code",
        "colab": {}
      },
      "source": [
        "def note_generator(file):\n",
        "  #'''This function breakdown inidividaul EHR text note into sentences, divided by new line and period'''\n",
        "    tree = ET.ElementTree(file=file)\n",
        "    root = tree.getroot()\n",
        "    all_notes = []\n",
        "\n",
        "    text = root.find('TEXT').text\n",
        "    sentences = [sent.split('\\n') for sent in sent_tokenize(text) if sent!='\\n']\n",
        "    \n",
        "\n",
        "    for text in sentences:#this part ignore empty lines\n",
        "        for sub_item in text:\n",
        "            if sub_item.replace(' ','') != '':\n",
        "                all_notes.append(sub_item)    \n",
        "    \n",
        "    return all_notes"
      ],
      "execution_count": 0,
      "outputs": []
    },
    {
      "cell_type": "markdown",
      "metadata": {
        "id": "REVnrHt7gMsN",
        "colab_type": "text"
      },
      "source": [
        "### Install Bert tokenization "
      ]
    },
    {
      "cell_type": "code",
      "metadata": {
        "id": "tEc2dLtQ5HPt",
        "colab_type": "code",
        "outputId": "870d8a1d-a610-441b-f714-f8777276cbd7",
        "colab": {
          "base_uri": "https://localhost:8080/",
          "height": 260
        }
      },
      "source": [
        "!pip install bert-tensorflow    # this replaces the bert github clone\n",
        "!pip install keras\n",
        "import tensorflow as tf\n",
        "import tensorflow_hub as hub\n",
        "\n",
        "import bert\n",
        "from bert import run_classifier\n",
        "from bert import optimization\n",
        "from bert import tokenization\n",
        "from keras import backend as K"
      ],
      "execution_count": 0,
      "outputs": [
        {
          "output_type": "stream",
          "text": [
            "Requirement already satisfied: bert-tensorflow in /usr/local/lib/python3.6/dist-packages (1.0.1)\n",
            "Requirement already satisfied: six in /usr/local/lib/python3.6/dist-packages (from bert-tensorflow) (1.12.0)\n",
            "Requirement already satisfied: keras in /usr/local/lib/python3.6/dist-packages (2.2.4)\n",
            "Requirement already satisfied: keras-preprocessing>=1.0.5 in /usr/local/lib/python3.6/dist-packages (from keras) (1.1.0)\n",
            "Requirement already satisfied: pyyaml in /usr/local/lib/python3.6/dist-packages (from keras) (3.13)\n",
            "Requirement already satisfied: keras-applications>=1.0.6 in /usr/local/lib/python3.6/dist-packages (from keras) (1.0.8)\n",
            "Requirement already satisfied: scipy>=0.14 in /usr/local/lib/python3.6/dist-packages (from keras) (1.3.0)\n",
            "Requirement already satisfied: h5py in /usr/local/lib/python3.6/dist-packages (from keras) (2.8.0)\n",
            "Requirement already satisfied: numpy>=1.9.1 in /usr/local/lib/python3.6/dist-packages (from keras) (1.16.4)\n",
            "Requirement already satisfied: six>=1.9.0 in /usr/local/lib/python3.6/dist-packages (from keras) (1.12.0)\n"
          ],
          "name": "stdout"
        },
        {
          "output_type": "stream",
          "text": [
            "W0802 06:38:35.420527 140462451693440 deprecation_wrapper.py:119] From /usr/local/lib/python3.6/dist-packages/bert/optimization.py:87: The name tf.train.Optimizer is deprecated. Please use tf.compat.v1.train.Optimizer instead.\n",
            "\n",
            "Using TensorFlow backend.\n"
          ],
          "name": "stderr"
        }
      ]
    },
    {
      "cell_type": "code",
      "metadata": {
        "id": "vLTuU4VQ4geo",
        "colab_type": "code",
        "outputId": "316530d7-4fd3-4ba4-ce59-5e1105d5896f",
        "colab": {
          "base_uri": "https://localhost:8080/",
          "height": 71
        }
      },
      "source": [
        "# This is a path to an uncased (all lowercase) version of BERT(PW:cased?)\n",
        "BERT_MODEL_HUB = \"https://tfhub.dev/google/bert_cased_L-12_H-768_A-12/1\"\n",
        "\n",
        "def create_tokenizer_from_hub_module():\n",
        "  \"\"\"Get the vocab file and casing info from the Hub module.\"\"\"\n",
        "  with tf.Graph().as_default():\n",
        "    bert_module = hub.Module(BERT_MODEL_HUB)\n",
        "    tokenization_info = bert_module(signature=\"tokenization_info\", as_dict=True)\n",
        "    with tf.Session() as sess:\n",
        "      vocab_file, do_lower_case = sess.run([tokenization_info[\"vocab_file\"],\n",
        "                                            tokenization_info[\"do_lower_case\"]])\n",
        "      \n",
        "  return bert.tokenization.FullTokenizer(\n",
        "      vocab_file=vocab_file, do_lower_case=do_lower_case)\n",
        "\n",
        "tokenizer = create_tokenizer_from_hub_module()"
      ],
      "execution_count": 0,
      "outputs": [
        {
          "output_type": "stream",
          "text": [
            "W0802 06:41:18.301390 140462451693440 deprecation_wrapper.py:119] From /usr/local/lib/python3.6/dist-packages/bert/tokenization.py:125: The name tf.gfile.GFile is deprecated. Please use tf.io.gfile.GFile instead.\n",
            "\n"
          ],
          "name": "stderr"
        }
      ]
    },
    {
      "cell_type": "code",
      "metadata": {
        "id": "1xN-hCdU7qF9",
        "colab_type": "code",
        "colab": {}
      },
      "source": [
        "def sentence_encoding(file):#this function is looped within the token_annotator function\n",
        "  \n",
        "  sentence_list=note_generator(file) #generate a list of sentences from tex\n",
        "  \n",
        "  df=tag_generator(file)\n",
        "  text_list=df['text'].tolist() #generate a list of tag \"TEXT\"\n",
        "  type_list=df['TYPE'].tolist() #generate a list of tag \"type\"\n",
        "  category_list=df['Category'].tolist() #generate a list of tag \"category\"\n",
        "  \n",
        "  processed_sentence=[]\n",
        "  processed_text=[]\n",
        "  processed_type=[]\n",
        "  processed_category=[]\n",
        "  \n",
        "  def findWholeWord(w):#this function finds a word within a string broken down by regular expression (case sensitive)\n",
        "    return re.compile(r'\\b({0})\\b'.format(w)).search\n",
        "  \n",
        "  for sentence in sentence_list:\n",
        "     for text in text_list:\n",
        "        if findWholeWord(text)(sentence)!=None:\n",
        "          processed_sentence.append(sentence)\n",
        "          processed_text.append(text)\n",
        "          processed_type.append(type_list[text_list.index(text)])\n",
        "          processed_category.append(category_list[text_list.index(text)])\n",
        "\n",
        "  \n",
        "  temp_df=pd.DataFrame({'Sentence':processed_sentence, 'Word':processed_text, 'Type':processed_type, 'Category':processed_category})\n",
        "  df = temp_df.drop_duplicates()\n",
        "        \n",
        "  return df\n",
        "  #return sentence_list, text_list, type_list, category_list\n",
        "  #return processed_sentence, processed_text, processed_type\n",
        "\n",
        "# sentence_encoding(train_filelist[0])"
      ],
      "execution_count": 0,
      "outputs": []
    },
    {
      "cell_type": "code",
      "metadata": {
        "id": "YQon1Y3AEfwI",
        "colab_type": "code",
        "colab": {}
      },
      "source": [
        "def token_annotator(file):\n",
        "  \n",
        "  temp_df=sentence_encoding(file)#take the data frame and turn them into individual lists\n",
        "  \n",
        "  type_list=temp_df['Type'].tolist()\n",
        "  temp_sentence_list=temp_df['Sentence'].tolist()\n",
        "  word_list=temp_df['Word'].tolist()\n",
        "  temp_unique_sentence_list=set(temp_sentence_list)\n",
        "  sentence_list=list(temp_unique_sentence_list) #take out duplicate sentences\n",
        "  \n",
        "  tokenized_word=[] #separate individual text into words (e.g, Mia E. Tapia to \"Mia\",\"E.\",\"Tapia\")\n",
        "  for phrase in word_list:\n",
        "    tokenized_word.append(tokenizer.tokenize(phrase))\n",
        "  \n",
        "  tokenized_sentence=[]\n",
        "  encoded_token=[]\n",
        "  \n",
        "  for i in range(len(sentence_list)): #tokenize the sentence and encode individual word\n",
        "    token_list=tokenizer.tokenize(sentence_list[i])\n",
        "    tokenized_sentence.append(token_list)\n",
        "    temp_list=['O' for length in range(len(token_list))]\n",
        "    for j in range(len(tokenized_word)):\n",
        "      if all(elem in token_list for elem in tokenized_word[j])==True:\n",
        "        #print(token_list, tokenized_word[j])\n",
        "        for word in tokenized_word[j]:\n",
        "          temp_list[token_list.index(word)]=(type_list[j])\n",
        "          #print(temp_list)\n",
        "    encoded_token.append(temp_list)\n",
        "          \n",
        "  return tokenized_sentence,encoded_token\n",
        "\n",
        "#token_annotator(train_filelist[0])\n",
        "  \n",
        " "
      ],
      "execution_count": 0,
      "outputs": []
    },
    {
      "cell_type": "code",
      "metadata": {
        "id": "S_UJDLnnoPQe",
        "colab_type": "code",
        "colab": {}
      },
      "source": [
        "def type_token_generator(file): \n",
        "  #this function convert all the text of a record into individual BERT tokenized list and generate type encoding list\n",
        "  all_sentences=note_generator(file)\n",
        "  tokenized_sentences=[]\n",
        "  for sentence in all_sentences:\n",
        "    tokenized_sentences.append(tokenizer.tokenize(sentence))\n",
        "  \n",
        "  type_token=[]\n",
        "    \n",
        "  sentence_list, encoded_token=token_annotator(file)\n",
        "  \n",
        "  for sentence in tokenized_sentences:\n",
        "    if sentence in sentence_list:\n",
        "      type_token.append(encoded_token[sentence_list.index(sentence)])\n",
        "    else:\n",
        "      type_token.append(['O'for i in range(len(sentence))])\n",
        "  \n",
        "  label_list=[]\n",
        "  #label_dict={\"O\":0, \"DATE\":1, \"DOCTOR\":2,\"HOSPITAL\":3,'PATIENT':4,'AGE':5,'MEDICALRECORD':6,'CITY':7,'STATE':8,'PHONE':9,'USERNAME':10,'IDNUM':11,'PROFESSION':12,'STREET':13,'ZIP':14,'ORGANIZATION':15,'COUNTRY':16,'FAX':17,'DEVICE':18,'EMAIL':19,'LOCATION-OTHER':20,'URL':21,'HEALTHPLAN':22,'BIOID':23}# ,'IPADDRESS':24,'ACCOUNT NUMBER':25}\n",
        "  for type_list in type_token:# we convert the label to numerical for Bert training. We can add types here later. \n",
        "    #label_list.append([label_dict.get(item,item)  for item in type_list])\n",
        "    label_list.append([0 if typetoken =='O' else 1 for typetoken in type_list])\n",
        "\n",
        "\n",
        "  #return tokenized_sentences, type_token, label_list\n",
        "  return tokenized_sentences, type_token, label_list #take a look at segment of the list to make sure the they are corect\n",
        "# we were missing tokenized_sentences, type_token from the return, not sure why\n",
        "                             \n"
      ],
      "execution_count": 0,
      "outputs": []
    },
    {
      "cell_type": "code",
      "metadata": {
        "id": "TKyZe-ME-QvS",
        "colab_type": "code",
        "outputId": "235f31ca-47cd-4e0c-ffe3-21ba200daca9",
        "colab": {
          "base_uri": "https://localhost:8080/",
          "height": 34
        }
      },
      "source": [
        "for i in range(514):\n",
        "  a,b,c=type_token_generator(test_filelist[i])\n",
        "  length=[]\n",
        "  for j in range(len(a)):\n",
        "    length.append([len(token) for token in a[j]])\n",
        " \n",
        "\n",
        "print(len(length))"
      ],
      "execution_count": 0,
      "outputs": [
        {
          "output_type": "stream",
          "text": [
            "119\n"
          ],
          "name": "stdout"
        }
      ]
    },
    {
      "cell_type": "code",
      "metadata": {
        "id": "xiVAFcsdThd3",
        "colab_type": "code",
        "outputId": "49cbeaae-1a0f-4c70-cbe1-616e379ce4fe",
        "colab": {
          "base_uri": "https://localhost:8080/",
          "height": 257
        }
      },
      "source": [
        "# from collections import Counter\n",
        "# length_flat=[num for numlist in length for num in numlist]\n",
        "# print(len(length_flat))\n",
        "\n",
        "# c=Counter()\n",
        "\n",
        "# for number in length_flat:\n",
        "#   c[number]+=1\n",
        "\n",
        "# c\n",
        "\n",
        "  "
      ],
      "execution_count": 0,
      "outputs": [
        {
          "output_type": "stream",
          "text": [
            "1904\n"
          ],
          "name": "stdout"
        },
        {
          "output_type": "execute_result",
          "data": {
            "text/plain": [
              "Counter({1: 576,\n",
              "         2: 308,\n",
              "         3: 378,\n",
              "         4: 287,\n",
              "         5: 151,\n",
              "         6: 67,\n",
              "         7: 57,\n",
              "         8: 26,\n",
              "         9: 33,\n",
              "         10: 11,\n",
              "         11: 6,\n",
              "         12: 3,\n",
              "         13: 1})"
            ]
          },
          "metadata": {
            "tags": []
          },
          "execution_count": 92
        }
      ]
    },
    {
      "cell_type": "code",
      "metadata": {
        "id": "MvR8jWAr4wzK",
        "colab_type": "code",
        "colab": {}
      },
      "source": [
        "#unique_list.sort()\n",
        "#print(unique_list)#we have 24 classes for training (0-23)\n",
        "#test=[0, 1, 4, 6, 5, 3, 12, 2, 9, 11, 10, 13, 7, 8, 14, 18, 16, 15, 20, 19]\n",
        "#train=[0, 1, 2, 3, 4, 5, 6, 7, 8, 9, 10, 11, 12, 13, 14, 15, 16, 17, 18, 19, 20, 21, 22, 23]"
      ],
      "execution_count": 0,
      "outputs": []
    },
    {
      "cell_type": "markdown",
      "metadata": {
        "id": "eztMvTDLey21",
        "colab_type": "text"
      },
      "source": [
        "### Generating BERT array"
      ]
    },
    {
      "cell_type": "code",
      "metadata": {
        "id": "cXrQFz9jNbCC",
        "colab_type": "code",
        "colab": {}
      },
      "source": [
        "def bert_array(file, max_seq_length):\n",
        "  '''This function generates the 5 lists of array that is required to feed into the model'''\n",
        "  \n",
        "  token_sentence, type_token, label_list= type_token_generator(file)\n",
        "  \n",
        "  token_list=[]\n",
        "  input_IDs=[]\n",
        "  input_mask=[]#1 for non padding and 0 for padding\n",
        "  segment_ID=[]\n",
        "  label=[]\n",
        "  \n",
        "  for untrimmed_sentence in token_sentence:\n",
        "    sentence=untrimmed_sentence[0:(max_seq_length)-2] #trim the list to allow space for CLS and SEP\n",
        "    sentence.insert(0,'[CLS]')\n",
        "    sentence.insert(len(sentence),'[SEP]')\n",
        "    length_before_padding=len(sentence)\n",
        "    temp_inputID=[1 for i in range(length_before_padding)]#insert 1 for [CLS] and [SEP] for mask\n",
        "    sentence.extend(['[PAD]' for i in range(max_seq_length-len(sentence))])\n",
        "    temp_inputID.extend([0 for i in range(max_seq_length-len(temp_inputID))])\n",
        "    token_list.append(sentence)\n",
        "    input_mask.append(temp_inputID)\n",
        "    segment_ID.append([0 for i in range(max_seq_length)])\n",
        "  \n",
        "  for token in token_list:\n",
        "    input_ids=tokenizer.convert_tokens_to_ids(token)\n",
        "    input_IDs.append(input_ids)\n",
        "  \n",
        "  for untrimmed_item in label_list:# we assign 0 to be non-PHI (including [CLS] and [SEP], 1 to be PHI and 2 to be padding\n",
        "    item=untrimmed_item[0:(max_seq_length-2)]#trim the list to allow space for CLS and SEP\n",
        "    item.insert(0,0)#class label 24 for CLS (Arnobio - you need to change 24 to 0 for binary)\n",
        "    item.insert(len(item),0) #class label 25 for SEP (Arnobio - you need to change 25 to 0 for binary)\n",
        "    item.extend([0 for i in range(max_seq_length-len(item))])  #class label 26 represents paddinging (ARnobio you need to change 26 to 0 for binary)\n",
        "    label.append(item)\n",
        "  \n",
        "  \n",
        "  return token_list, input_IDs, input_mask, segment_ID, label\n",
        "\n",
        "\n",
        "\n",
        "\n",
        "\n",
        "# token='this'\n",
        "# input_ids = tokenizer.convert_tokens_to_ids(['[CLS]'])\n"
      ],
      "execution_count": 0,
      "outputs": []
    },
    {
      "cell_type": "markdown",
      "metadata": {
        "id": "909epvhvxYMN",
        "colab_type": "text"
      },
      "source": [
        "# Generating data for BERT"
      ]
    },
    {
      "cell_type": "code",
      "metadata": {
        "id": "aVWZQzxheWAn",
        "colab_type": "code",
        "colab": {}
      },
      "source": [
        "\n",
        "# #create train data\n",
        "# train_data = bert_array(train_filelist[0],max_seq_length)\n",
        "# train_input_ids=np.array(train_data[1])\n",
        "# train_input_masks=np.array(train_data[2])\n",
        "# train_token_list=np.array(train_data[0])\n",
        "# train_segment_ids=np.array(train_data[3])\n",
        "# train_labels=np.array(train_data[4]) #.reshape(-1,1) have to remove the reshape because otherwise it makes the labels just one long list, leading to error below when trying to fit the model\n",
        "# # \"Input arrays should have the same number of samples as target arrays. Found 65 input samples and 2080 target samples.\"\"\n",
        "# print(train_input_ids.shape, train_input_masks.shape, train_token_list.shape, train_segment_ids.shape, train_labels.shape)\n",
        "\n",
        "\n",
        "# #create train data\n",
        "# test_data = bert_array(test_filelist[0],max_seq_length)\n",
        "# test_input_ids=np.array(test_data[1])\n",
        "# test_input_masks=np.array(test_data[2])\n",
        "# test_token_list=np.array(test_data[0])\n",
        "# test_segment_ids=np.array(test_data[3])\n",
        "# test_labels=np.array(test_data[4]) #.reshape(-1,1) have to remove the reshape because otherwise it makes the labels just one long list, leading to error below when trying to fit the model\n",
        "# # \"Input arrays should have the same number of samples as target arrays. Found 65 input samples and 2080 target samples.\"\"\n",
        "# print(test_input_ids.shape, test_input_masks.shape, test_token_list.shape, test_segment_ids.shape, test_labels.shape)"
      ],
      "execution_count": 0,
      "outputs": []
    },
    {
      "cell_type": "code",
      "metadata": {
        "id": "kjhndmGlkYY_",
        "colab_type": "code",
        "colab": {}
      },
      "source": [
        "# batch size\n",
        "batch_size = 32\n",
        "\n",
        "# create data\n",
        "max_seq_length = 20\n",
        "\n",
        "# num of files to retrieve\n",
        "num_of_file_train = 200\n",
        "\n",
        "\n",
        "def generate_train_data(num_of_file, max_seq_length):#Max number of file number is 789\n",
        "  '''This function runs through a loop to append the tokens, input ids, input masks, segement id and labels to 5 individual np arrays '''\n",
        "  temp_list0, temp_list1, temp_list2, temp_list3, temp_list4=[],[],[],[],[]\n",
        "  for i in range(num_of_file):\n",
        "    temp_data= bert_array(train_filelist[i],max_seq_length)\n",
        "    \n",
        "    for j in range(len(temp_data[0])):\n",
        "      temp_list0.append(temp_data[0][j])\n",
        "      temp_list1.append(temp_data[1][j])\n",
        "      temp_list2.append(temp_data[2][j])\n",
        "      temp_list3.append(temp_data[3][j])\n",
        "      temp_list4.append(temp_data[4][j])\n",
        "  \n",
        "#   np_token_list=np.array(temp_list0)\n",
        "#   np_input_ids=np.array(temp_list1)\n",
        "#   np_input_masks=np.array(temp_list2)\n",
        "#   np_segment_ids=np.array(temp_list3)\n",
        "#   np_labels=np.array(temp_list4)\n",
        "      \n",
        "  #return np_token_list, np_input_ids, np_input_masks, np_segment_ids, np_labels\n",
        "  return temp_list0, temp_list1, temp_list2, temp_list3, temp_list4\n",
        "\n",
        "#change number of file here (MAX:789)\n",
        "\n",
        "\n",
        "train_token_list, train_input_ids, train_input_masks, train_segment_ids, train_labels= generate_train_data(num_of_file_train,max_seq_length)\n",
        "\n",
        "# #print(train_token_list)\n",
        "# #check that the shape is correct\n",
        "# #print(train_input_ids.shape, train_input_masks.shape, train_token_list.shape, train_segment_ids.shape, train_labels.shape)"
      ],
      "execution_count": 0,
      "outputs": []
    },
    {
      "cell_type": "code",
      "metadata": {
        "id": "YcJYPa7guYAv",
        "colab_type": "code",
        "outputId": "ec82bacc-7eb4-4d26-9f29-c796ae1d93b7",
        "colab": {
          "base_uri": "https://localhost:8080/",
          "height": 34
        }
      },
      "source": [
        "print(len(train_token_list))"
      ],
      "execution_count": 0,
      "outputs": [
        {
          "output_type": "stream",
          "text": [
            "17470\n"
          ],
          "name": "stdout"
        }
      ]
    },
    {
      "cell_type": "code",
      "metadata": {
        "id": "s_6jcasSriGD",
        "colab_type": "code",
        "colab": {}
      },
      "source": [
        "num_of_file_test = 150\n",
        "\n",
        "def generate_test_data(num_of_file, max_seq_length):#Max number of file is 513\n",
        "  '''This function runs through a loop to append the tokens, input ids, input masks, segement id and labels to 5 individual np arrays '''\n",
        "  temp_list0, temp_list1, temp_list2, temp_list3, temp_list4=[],[],[],[],[]\n",
        "  for i in range(num_of_file):\n",
        "    temp_data= bert_array(test_filelist[i],max_seq_length)\n",
        "    \n",
        "    for j in range(len(temp_data[0])):\n",
        "      temp_list0.append(temp_data[0][j])\n",
        "      temp_list1.append(temp_data[1][j])\n",
        "      temp_list2.append(temp_data[2][j])\n",
        "      temp_list3.append(temp_data[3][j])\n",
        "      temp_list4.append(temp_data[4][j])\n",
        "  \n",
        "\n",
        "  return temp_list0, temp_list1, temp_list2, temp_list3, temp_list4\n",
        "\n",
        "test_token_list, test_input_ids, test_input_masks, test_segment_ids, test_labels = generate_test_data(num_of_file_test,max_seq_length)\n",
        "\n",
        "\n"
      ],
      "execution_count": 0,
      "outputs": []
    },
    {
      "cell_type": "code",
      "metadata": {
        "id": "hMUhd6L2XXgk",
        "colab_type": "code",
        "outputId": "7be52e66-fcc5-468d-da6c-ec03373db192",
        "colab": {
          "base_uri": "https://localhost:8080/",
          "height": 34
        }
      },
      "source": [
        "# print(train_token_list[0])\n",
        " print(len(test_input_ids))\n",
        "# print(train_segment_ids[0])\n",
        "#print(type(test_labels))"
      ],
      "execution_count": 0,
      "outputs": [
        {
          "output_type": "stream",
          "text": [
            "12934\n"
          ],
          "name": "stdout"
        }
      ]
    },
    {
      "cell_type": "markdown",
      "metadata": {
        "id": "pJopx8eaXwdA",
        "colab_type": "text"
      },
      "source": [
        "### Save Data Arrays for Loading"
      ]
    },
    {
      "cell_type": "code",
      "metadata": {
        "id": "sbqFX-tNSdxh",
        "colab_type": "code",
        "colab": {}
      },
      "source": [
        "# save tokens outside o\n",
        "#cd ..\n",
        "np.save(\"train_token_list\",train_token_list)\n",
        "np.save(\"train_input_ids\",train_token_list)\n",
        "np.save(\"train_input_masks\",train_token_list)\n",
        "np.save(\"train_segment_ids\",train_token_list)\n",
        "np.save(\"train_labels\",train_token_list)\n",
        "\n",
        "#%cd /gdrive"
      ],
      "execution_count": 0,
      "outputs": []
    },
    {
      "cell_type": "code",
      "metadata": {
        "id": "S68GlWkLdQNQ",
        "colab_type": "code",
        "outputId": "bc1f2a10-f75f-405f-fd58-fd411ab1b77c",
        "colab": {
          "base_uri": "https://localhost:8080/",
          "height": 34
        }
      },
      "source": [
        "cd gdrive"
      ],
      "execution_count": 0,
      "outputs": [
        {
          "output_type": "stream",
          "text": [
            "/gdrive\n"
          ],
          "name": "stdout"
        }
      ]
    },
    {
      "cell_type": "markdown",
      "metadata": {
        "id": "s-q4Pn_DYLFW",
        "colab_type": "text"
      },
      "source": [
        "### Load Data Arrays from Saved Files"
      ]
    },
    {
      "cell_type": "code",
      "metadata": {
        "id": "HSyNIcbGdO1r",
        "colab_type": "code",
        "colab": {}
      },
      "source": [
        "#from google.colab import drive # this sets the file path to your personal google drive. You will need to enter the authorization code each time. \n",
        "#drive.mount('/gdrive')\n",
        "# cd /gdrive"
      ],
      "execution_count": 0,
      "outputs": []
    },
    {
      "cell_type": "markdown",
      "metadata": {
        "id": "MPGcqi9HwriM",
        "colab_type": "text"
      },
      "source": [
        "#Buildling the Bert Model"
      ]
    },
    {
      "cell_type": "code",
      "metadata": {
        "id": "h__HPbLpEcPf",
        "colab_type": "code",
        "colab": {}
      },
      "source": [
        "# Partially based on and created with teh help with Joachim Rahmfeld and his work, as well as \"BERT in Keras with Tensorflow hub\" (https://towardsdatascience.com/bert-in-keras-with-tensorflow-hub-76bcbc9417b) \n",
        "\n",
        "#BERT_MODEL_HUB\n",
        "class BertLayer(tf.keras.layers.Layer):\n",
        "    def __init__(\n",
        "        self,\n",
        "        n_fine_tune_layers=1,\n",
        "        pooling=\"sequence_output\",\n",
        "        bert_path=BERT_MODEL_HUB,\n",
        "        #bert_path=\"https://tfhub.dev/google/bert_cased_L-12_H-768_A-12/1\",\n",
        "        **kwargs,\n",
        "    ):\n",
        "        self.n_fine_tune_layers = n_fine_tune_layers\n",
        "        self.trainable = True\n",
        "        self.output_size = 768\n",
        "        self.pooling = pooling\n",
        "        self.bert_path = bert_path\n",
        "\n",
        "        super(BertLayer, self).__init__(**kwargs)\n",
        "\n",
        "    def build(self, input_shape):\n",
        "        self.bert = hub.Module(\n",
        "            self.bert_path, trainable=self.trainable, name=f\"{self.name}_module\"\n",
        "        )\n",
        "\n",
        "        # Remove unused layers\n",
        "        trainable_vars = self.bert.variables\n",
        "        #         if self.pooling == \"first\":\n",
        "        #             trainable_vars = [var for var in trainable_vars if not \"/cls/\" in var.name]\n",
        "        #             trainable_layers = [\"pooler/dense\"]\n",
        "\n",
        "        #         elif self.pooling == \"sequence\":\n",
        "        trainable_vars = [\n",
        "            var\n",
        "            for var in trainable_vars\n",
        "            if not \"/cls/\" in var.name and not \"/pooler/\" in var.name\n",
        "        ]\n",
        "        \n",
        "        trainable_layers = []\n",
        "        #         else:\n",
        "        #             raise NameError(\n",
        "        #                 f\"Undefined pooling type (must be either first or mean, but is {self.pooling}\"\n",
        "        #             )\n",
        "\n",
        "                # Select how many layers to fine tune\n",
        "        for i in range(self.n_fine_tune_layers):\n",
        "            trainable_layers.append(f\"encoder/layer_{str(11 - i)}\")\n",
        "\n",
        "        # Update trainable vars to contain only the specified layers\n",
        "        trainable_vars = [\n",
        "            var\n",
        "            for var in trainable_vars\n",
        "            if any([l in var.name for l in trainable_layers])\n",
        "        ]\n",
        "\n",
        "        # Add to trainable weights\n",
        "        for var in trainable_vars:\n",
        "            self._trainable_weights.append(var)\n",
        "\n",
        "        for var in self.bert.variables:\n",
        "            if var not in self._trainable_weights:\n",
        "                self._non_trainable_weights.append(var)\n",
        "\n",
        "        super(BertLayer, self).build(input_shape)\n",
        "\n",
        "    def call(self, inputs):\n",
        "        inputs = [K.cast(x, dtype=\"int32\") for x in inputs]\n",
        "        input_ids, input_mask, segment_ids = inputs\n",
        "        bert_inputs = dict(\n",
        "            input_ids=input_ids, input_mask=input_mask, segment_ids=segment_ids\n",
        "        )\n",
        "        #         if self.pooling == \"first\":\n",
        "        #             pooled = self.bert(inputs=bert_inputs, signature=\"tokens\", as_dict=True)[\n",
        "        #                 \"pooled_output\"\n",
        "        #             ]\n",
        "        #         elif self.pooling == \"sequence\":\n",
        "        #             result = self.bert(inputs=bert_inputs, signature=\"tokens\", as_dict=True)[\n",
        "        #                 \"sequence_output\"\n",
        "        #             ]\n",
        "\n",
        "        #             mul_mask = lambda x, m: x * tf.expand_dims(m, axis=-1)\n",
        "        #             masked_reduce_mean = lambda x, m: tf.reduce_sum(mul_mask(x, m), axis=1) / (\n",
        "        #                     tf.reduce_sum(m, axis=1, keepdims=True) + 1e-10)\n",
        "        #             input_mask = tf.cast(input_mask, tf.float32)\n",
        "        #             pooled = masked_reduce_mean(result, input_mask)\n",
        "        #         else:\n",
        "        #             raise NameError(f\"Undefined pooling type (must be either first or mean, but is {self.pooling}\")\n",
        "                \n",
        "        result = self.bert(inputs=bert_inputs, signature=\"tokens\", as_dict=True)[\n",
        "                \"sequence_output\"\n",
        "            ]\n",
        "        \n",
        "        mul_mask = lambda x, m: x * tf.expand_dims(m, axis=-1)\n",
        "        \n",
        "        return result\n",
        "\n",
        "    def compute_output_shape(self, input_shape):\n",
        "        return (input_shape[0], self.output_size)"
      ],
      "execution_count": 0,
      "outputs": []
    },
    {
      "cell_type": "code",
      "metadata": {
        "id": "Xo1aPcnGYr2y",
        "colab_type": "code",
        "colab": {}
      },
      "source": [
        "num_labels = 2\n",
        "\n",
        "def custom_acc_orig_tokens(y_true, y_pred):\n",
        "    \"\"\"\n",
        "    calculate loss dfunction filtering out also the newly inserted labels\n",
        "    \n",
        "    y_true: Shape: (batch x (max_length) )\n",
        "    y_pred: predictions. Shape: (batch x x (max_length + 1) x num_distinct_ner_tokens ) \n",
        "    \n",
        "    returns: accuracy\n",
        "    \"\"\"\n",
        "\n",
        "    #get labels and predictions\n",
        "    \n",
        "    y_label = tf.reshape(tf.layers.Flatten()(tf.cast(y_true, tf.int64)),[-1])\n",
        "    \n",
        "    mask = (y_label < 24)\n",
        "    y_label_masked = tf.boolean_mask(y_label, mask)\n",
        "    \n",
        "    y_predicted = tf.math.argmax(input = tf.reshape(tf.layers.Flatten()(tf.cast(y_pred, tf.float64)),\\\n",
        "                                                    [-1, num_labels]), axis=1)\n",
        "    \n",
        "    y_predicted_masked = tf.boolean_mask(y_predicted, mask)\n",
        "\n",
        "    return tf.reduce_mean(tf.cast(tf.equal(y_predicted_masked,y_label_masked) , dtype=tf.float64))"
      ],
      "execution_count": 0,
      "outputs": []
    },
    {
      "cell_type": "code",
      "metadata": {
        "id": "2qec3shDEw30",
        "colab_type": "code",
        "colab": {}
      },
      "source": [
        "# Build model\n",
        "def build_model(max_seq_length): \n",
        "    in_id = tf.keras.layers.Input(shape=(max_seq_length,), name=\"input_ids\")\n",
        "    in_mask = tf.keras.layers.Input(shape=(max_seq_length,), name=\"input_masks\")\n",
        "    in_segment = tf.keras.layers.Input(shape=(max_seq_length,), name=\"segment_ids\")\n",
        "    #print(in_id, in_mask, in_segment)\n",
        "    bert_inputs = [in_id, in_mask, in_segment]\n",
        "    \n",
        "    bert_output = BertLayer(n_fine_tune_layers=0, pooling=\"sequence_output\")(bert_inputs)\n",
        "    \n",
        "    #print(bert_output)\n",
        "    \n",
        "    dense = tf.keras.layers.Dense(256, activation='relu')(bert_output)\n",
        "    \n",
        "    dense = tf.keras.layers.Dropout(rate=0.1)(dense)#random drop out to prevent overfitting\n",
        "    \n",
        "    pred = tf.keras.layers.Dense(2, activation='sigmoid')(dense)#Arnobio: 2 for binary class (not sure why) need to change output shpae to reflect number of classes\n",
        "    \n",
        "    model = tf.keras.models.Model(inputs=bert_inputs, outputs=pred)\n",
        "    \n",
        "\n",
        "    #model.compile(loss='categorical_crossentropy', optimizer='adam', metrics=['accuracy'])\n",
        "    #losses = custom_loss#added this copying the function from Joachim's notebook\n",
        "    #model.compile(loss='binary_crossentropy', optimizer='adam', metrics=['accuracy'])\n",
        "    #model.compile(loss='categorical_crossentropy', optimizer='adam', metrics=['accuracy'])\n",
        "    #model.compile(loss=losses, optimizer='adam', metrics=['accuracy'])\n",
        "    model.compile(loss='sparse_categorical_crossentropy', optimizer='adam', metrics=[custom_acc_orig_tokens])\n",
        "    \n",
        "    model.summary()\n",
        "    \n",
        "    return model\n",
        "\n",
        "#build_model(32)\n",
        "# def initialize_vars(sess):\n",
        "#     sess.run(tf.local_variables_initializer())\n",
        "#     sess.run(tf.global_variables_initializer())\n",
        "#     sess.run(tf.tables_initializer())\n",
        "#     K.set_session(sess)"
      ],
      "execution_count": 0,
      "outputs": []
    },
    {
      "cell_type": "markdown",
      "metadata": {
        "id": "szPBKLBLw7nD",
        "colab_type": "text"
      },
      "source": [
        "##Train the BERT model"
      ]
    },
    {
      "cell_type": "markdown",
      "metadata": {
        "id": "rwVb2r25UINh",
        "colab_type": "text"
      },
      "source": [
        "### Data Preparation\n",
        "Set up data to mimic Joachim's data input"
      ]
    },
    {
      "cell_type": "code",
      "metadata": {
        "id": "hJubB1GFwqeD",
        "colab_type": "code",
        "outputId": "a56c2cf4-06aa-45b9-bfbe-ec8dd7f8cf16",
        "colab": {
          "base_uri": "https://localhost:8080/",
          "height": 51
        }
      },
      "source": [
        "#train_token_list, train_input_ids, train_input_masks, train_segment_ids, train_la\n",
        "\n",
        "X_train = np.array([train_input_ids,train_input_masks,train_segment_ids])\n",
        "X_test = np.array([test_input_ids,test_input_masks,test_segment_ids])\n",
        "train_label1=np.array(train_labels)\n",
        "test_label1=np.array(test_labels)\n",
        "\n",
        "print(X_train.shape)\n",
        "print(X_test.shape)"
      ],
      "execution_count": 0,
      "outputs": [
        {
          "output_type": "stream",
          "text": [
            "(3, 17470, 20)\n",
            "(3, 12934, 20)\n"
          ],
          "name": "stdout"
        }
      ]
    },
    {
      "cell_type": "code",
      "metadata": {
        "id": "ZVW_81AGxNez",
        "colab_type": "code",
        "outputId": "9d74581a-81f9-4668-f211-b3ab26c95c79",
        "colab": {
          "base_uri": "https://localhost:8080/",
          "height": 86
        }
      },
      "source": [
        "k_start=0\n",
        "k_end_train=9600\n",
        "k_end_dev_start_test=3200\n",
        "k_end_test=k_end_dev_start_test+3200\n",
        "\n",
        "bert_inputs_train_k = [X_train[0][k_start:k_end_train], X_train[1][k_start:k_end_train], \n",
        "                       X_train[2][k_start:k_end_train]]\n",
        "\n",
        "bert_inputs_dev_k = [X_test[0][k_start:k_end_dev_start_test], X_test[1][k_start:k_end_dev_start_test], \n",
        "                      X_test[2][k_start:k_end_dev_start_test]]\n",
        "\n",
        "bert_inputs_test_k = [X_test[0][k_end_dev_start_test:k_end_test], X_test[1][k_end_dev_start_test:k_end_test], \n",
        "                      X_test[2][k_end_dev_start_test:k_end_test]]\n",
        "\n",
        "bert_train_label=train_label1[k_start:k_end_train]\n",
        "bert_dev_label=test_label1[k_start:k_end_dev_start_test]\n",
        "bert_test_label=test_label1[k_end_dev_start_test:k_end_test]\n",
        "\n",
        "print(len(bert_inputs_train_k))\n",
        "print(bert_train_label.shape)\n",
        "print(bert_dev_label.shape)\n",
        "print(bert_test_label.shape)"
      ],
      "execution_count": 0,
      "outputs": [
        {
          "output_type": "stream",
          "text": [
            "3\n",
            "(9600, 20)\n",
            "(3200, 20)\n",
            "(3200, 20)\n"
          ],
          "name": "stdout"
        }
      ]
    },
    {
      "cell_type": "code",
      "metadata": {
        "id": "DDeCa11AD2Oh",
        "colab_type": "code",
        "outputId": "8b8be0e0-1344-4611-e122-c2f6d00a7ff7",
        "colab": {
          "base_uri": "https://localhost:8080/",
          "height": 51
        }
      },
      "source": [
        "count=0\n",
        "for i in range(len(bert_test_label)):\n",
        "  for j in range (20):\n",
        "    if bert_test_label[i][j]==0:\n",
        "      count+=1\n",
        "\n",
        "print(\"the number of label 0 is\", count)\n",
        "print(\"the percent of zero is\", count/64000)"
      ],
      "execution_count": 0,
      "outputs": [
        {
          "output_type": "stream",
          "text": [
            "the number of label 0 is 61723\n",
            "the percent of zero is 0.964421875\n"
          ],
          "name": "stdout"
        }
      ]
    },
    {
      "cell_type": "code",
      "metadata": {
        "id": "0surRGiE614W",
        "colab_type": "code",
        "colab": {}
      },
      "source": [
        "#print(bert_inputs_train_k)"
      ],
      "execution_count": 0,
      "outputs": []
    },
    {
      "cell_type": "code",
      "metadata": {
        "id": "EZmk2uT2EydW",
        "colab_type": "code",
        "outputId": "175a8e44-968b-46a9-bb90-1065375e3201",
        "colab": {
          "base_uri": "https://localhost:8080/",
          "height": 757
        }
      },
      "source": [
        "#keras.backend.get_session().run(tf.global_variables_initializer())\n",
        "\n",
        "# # #https://stackoverflow.com/questions/34001922/failedpreconditionerror-attempting-to-use-uninitialized-in-tensorflow\n",
        "# sess = tf.InteractiveSession()\n",
        "\n",
        "# sess.run(tf.global_variables_initializer())\n",
        "# sess.run(tf.local_variables_initializer())\n",
        "\n",
        "model = build_model(max_seq_length)\n",
        "\n",
        "\n",
        "sess = tf.InteractiveSession()\n",
        "\n",
        "sess.run(tf.global_variables_initializer())\n",
        "sess.run(tf.local_variables_initializer())\n",
        "\n",
        "# num_train_examples = 64\n",
        "# num_dev_examples = 32\n",
        "\n",
        "# model.fit(\n",
        "#     bert_inputs_train_k, \n",
        "#     {\"ner\": labels_train_k },\n",
        "#     validation_data=(bert_inputs_test_k, {\"ner\": labels_test_k }),\n",
        "#     epochs=8,\n",
        "#     batch_size=32#,\n",
        "#     #callbacks=[tensorboard]\n",
        "\n",
        "model.fit(\n",
        "    bert_inputs_train_k, \n",
        "    bert_train_label,\n",
        "    validation_data=(bert_inputs_dev_k,bert_dev_label),\n",
        "    epochs=5,\n",
        "    batch_size=32#if we change this to input dimension then we solve the 32 problem. \n",
        ")\n",
        "\n",
        "\n",
        "#sess.close()"
      ],
      "execution_count": 0,
      "outputs": [
        {
          "output_type": "stream",
          "text": [
            "W0802 06:53:20.039936 140462451693440 deprecation.py:506] From /usr/local/lib/python3.6/dist-packages/tensorflow/python/ops/init_ops.py:1251: calling VarianceScaling.__init__ (from tensorflow.python.ops.init_ops) with dtype is deprecated and will be removed in a future version.\n",
            "Instructions for updating:\n",
            "Call initializer instance with the dtype argument instead of passing it to the constructor\n",
            "W0802 06:53:21.104645 140462451693440 deprecation.py:323] From /usr/local/lib/python3.6/dist-packages/tensorflow/python/ops/array_ops.py:1354: add_dispatch_support.<locals>.wrapper (from tensorflow.python.ops.array_ops) is deprecated and will be removed in a future version.\n",
            "Instructions for updating:\n",
            "Use tf.where in 2.0, which has the same broadcast rule as np.where\n"
          ],
          "name": "stderr"
        },
        {
          "output_type": "stream",
          "text": [
            "Model: \"model\"\n",
            "__________________________________________________________________________________________________\n",
            "Layer (type)                    Output Shape         Param #     Connected to                     \n",
            "==================================================================================================\n",
            "input_ids (InputLayer)          [(None, 20)]         0                                            \n",
            "__________________________________________________________________________________________________\n",
            "input_masks (InputLayer)        [(None, 20)]         0                                            \n",
            "__________________________________________________________________________________________________\n",
            "segment_ids (InputLayer)        [(None, 20)]         0                                            \n",
            "__________________________________________________________________________________________________\n",
            "bert_layer (BertLayer)          (None, None, 768)    108931396   input_ids[0][0]                  \n",
            "                                                                 input_masks[0][0]                \n",
            "                                                                 segment_ids[0][0]                \n",
            "__________________________________________________________________________________________________\n",
            "dense (Dense)                   (None, None, 256)    196864      bert_layer[0][0]                 \n",
            "__________________________________________________________________________________________________\n",
            "dropout (Dropout)               (None, None, 256)    0           dense[0][0]                      \n",
            "__________________________________________________________________________________________________\n",
            "dense_1 (Dense)                 (None, None, 2)      514         dropout[0][0]                    \n",
            "==================================================================================================\n",
            "Total params: 109,128,774\n",
            "Trainable params: 197,378\n",
            "Non-trainable params: 108,931,396\n",
            "__________________________________________________________________________________________________\n",
            "Train on 9600 samples, validate on 3200 samples\n",
            "Epoch 1/5\n",
            "9600/9600 [==============================] - 1597s 166ms/sample - loss: 0.0670 - custom_acc_orig_tokens: 0.9706 - val_loss: 0.0516 - val_custom_acc_orig_tokens: 0.9815\n",
            "Epoch 2/5\n",
            "9600/9600 [==============================] - 1571s 164ms/sample - loss: 0.0306 - custom_acc_orig_tokens: 0.9892 - val_loss: 0.0337 - val_custom_acc_orig_tokens: 0.9885\n",
            "Epoch 3/5\n",
            "9600/9600 [==============================] - 1584s 165ms/sample - loss: 0.0215 - custom_acc_orig_tokens: 0.9928 - val_loss: 0.0323 - val_custom_acc_orig_tokens: 0.9893\n",
            "Epoch 4/5\n",
            "9600/9600 [==============================] - 1588s 165ms/sample - loss: 0.0167 - custom_acc_orig_tokens: 0.9944 - val_loss: 0.0283 - val_custom_acc_orig_tokens: 0.9910\n",
            "Epoch 5/5\n",
            "9600/9600 [==============================] - 1516s 158ms/sample - loss: 0.0129 - custom_acc_orig_tokens: 0.9958 - val_loss: 0.0294 - val_custom_acc_orig_tokens: 0.9910\n"
          ],
          "name": "stdout"
        },
        {
          "output_type": "execute_result",
          "data": {
            "text/plain": [
              "<tensorflow.python.keras.callbacks.History at 0x7fbf948cc630>"
            ]
          },
          "metadata": {
            "tags": []
          },
          "execution_count": 23
        }
      ]
    },
    {
      "cell_type": "markdown",
      "metadata": {
        "id": "eFDX_jbDI7xE",
        "colab_type": "text"
      },
      "source": [
        ""
      ]
    },
    {
      "cell_type": "markdown",
      "metadata": {
        "id": "ZIL1kUPOQE3-",
        "colab_type": "text"
      },
      "source": [
        "#Error Analysis"
      ]
    },
    {
      "cell_type": "markdown",
      "metadata": {
        "id": "sGeGerhz7C7e",
        "colab_type": "text"
      },
      "source": [
        "##Precision/Recall/F1\n",
        "\n",
        "https://stackoverflow.com/questions/1783653/computing-precision-and-recall-in-named-entity-recognition"
      ]
    },
    {
      "cell_type": "code",
      "metadata": {
        "id": "VuECrTHSDMCr",
        "colab_type": "code",
        "outputId": "810da447-dff6-44ee-8e98-41fe3f0c0a2d",
        "colab": {
          "base_uri": "https://localhost:8080/",
          "height": 88
        }
      },
      "source": [
        "\n",
        "# sess = tf.InteractiveSession()\n",
        "\n",
        "# sess.run(tf.global_variables_initializer())\n",
        "# sess.run(tf.local_variables_initializer())\n",
        "\n",
        "result = model.predict(\n",
        "    bert_inputs_test_k, \n",
        "    batch_size=32)\n"
      ],
      "execution_count": 0,
      "outputs": [
        {
          "output_type": "stream",
          "text": [
            "32\n"
          ],
          "name": "stdout"
        },
        {
          "output_type": "stream",
          "text": [
            "/usr/local/lib/python3.6/dist-packages/tensorflow/python/client/session.py:1735: UserWarning: An interactive session is already active. This can cause out-of-memory errors in some cases. You must explicitly call `InteractiveSession.close()` to release resources held by the other session(s).\n",
            "  warnings.warn('An interactive session is already active. This can '\n"
          ],
          "name": "stderr"
        }
      ]
    },
    {
      "cell_type": "code",
      "metadata": {
        "id": "P7QW7AdkJYbx",
        "colab_type": "code",
        "outputId": "374718f2-f0e6-4aea-fdd3-dd51d21a5c79",
        "colab": {
          "base_uri": "https://localhost:8080/",
          "height": 188
        }
      },
      "source": [
        "from sklearn.metrics import classification_report\n",
        "from sklearn.metrics import confusion_matrix\n",
        "pred_np=np.argmax(result, axis=2)\n",
        "\n",
        "test_np=bert_test_label\n",
        "\n",
        "\n",
        "pred_label=[]\n",
        "test_label=[]\n",
        "\n",
        "for i in range(pred_np.shape[0]):\n",
        "  pred_label.extend(pred_np[i])\n",
        "\n",
        "for i in range(len(test_np)):\n",
        "  test_label.extend(test_np[i])\n",
        "  \n",
        "  \n",
        "print(len(pred_label), len(test_label))\n",
        "\n",
        "print(classification_report(test_label, pred_label))"
      ],
      "execution_count": 0,
      "outputs": [
        {
          "output_type": "stream",
          "text": [
            "64000 64000\n",
            "              precision    recall  f1-score   support\n",
            "\n",
            "           0       0.93      0.19      0.31     61723\n",
            "           1       0.03      0.61      0.05      2277\n",
            "\n",
            "    accuracy                           0.20     64000\n",
            "   macro avg       0.48      0.40      0.18     64000\n",
            "weighted avg       0.90      0.20      0.30     64000\n",
            "\n"
          ],
          "name": "stdout"
        }
      ]
    },
    {
      "cell_type": "code",
      "metadata": {
        "id": "EBniuq-jy1zf",
        "colab_type": "code",
        "outputId": "611b1ff1-5256-42e7-b101-ff82746d6602",
        "colab": {
          "base_uri": "https://localhost:8080/",
          "height": 34
        }
      },
      "source": [
        "#save data to gdrive\n",
        "from google.colab import files\n",
        "%cd ..\n",
        "# np.save('result_baseline', result)\n",
        "# files.download('result_baseline.npy')\n",
        "\n",
        "np.save('test_label_baseline',bert_test_label)\n",
        "files.download('test_label_baseline.npy')\n"
      ],
      "execution_count": 0,
      "outputs": [
        {
          "output_type": "stream",
          "text": [
            "/\n"
          ],
          "name": "stdout"
        }
      ]
    },
    {
      "cell_type": "code",
      "metadata": {
        "id": "5aug2etj0YfA",
        "colab_type": "code",
        "outputId": "18d4240b-5f3c-4f98-859a-14ffdf9aa9cc",
        "colab": {
          "base_uri": "https://localhost:8080/",
          "height": 34
        }
      },
      "source": [
        "%cd ..\n",
        "np.save('test_label_baseline',bert_test_label)\n",
        "files.download('test_label_baseline.npy')"
      ],
      "execution_count": 0,
      "outputs": [
        {
          "output_type": "stream",
          "text": [
            "/\n"
          ],
          "name": "stdout"
        }
      ]
    },
    {
      "cell_type": "code",
      "metadata": {
        "id": "wBST5SoDl5UX",
        "colab_type": "code",
        "outputId": "6ef3a77c-ba86-4542-d1ae-8417dc69dd7d",
        "colab": {
          "base_uri": "https://localhost:8080/",
          "height": 51
        }
      },
      "source": [
        "con=confusion_matrix(test_label, pred_label)\n",
        "for i in range(len(con)):#print it one by one so it's easier to see\n",
        "  print(con[i])\n"
      ],
      "execution_count": 0,
      "outputs": [
        {
          "output_type": "stream",
          "text": [
            "[11605 50118]\n",
            "[ 888 1389]\n"
          ],
          "name": "stdout"
        }
      ]
    },
    {
      "cell_type": "code",
      "metadata": {
        "id": "CNtc-pGxi3wZ",
        "colab_type": "code",
        "outputId": "54833746-fb35-4720-db62-d69de976b528",
        "colab": {
          "base_uri": "https://localhost:8080/",
          "height": 106
        }
      },
      "source": [
        "#Convert all probabiliyt less than 0.5 to 1 else 0\n",
        "for i in range(32):\n",
        "  for j in range(32):\n",
        "    if result[i][j]<=0.5:\n",
        "      result[i][j]=1\n",
        "    else:\n",
        "      result[i][j]=0\n",
        "\n",
        "zero_count=0\n",
        "for i in range(32):\n",
        "  for j in range(32):\n",
        "    if test_label[i][j]==0:\n",
        "      zero_count+=1\n",
        "      \n",
        "count=0\n",
        "for i in range(32):\n",
        "  for j in range(32):\n",
        "    if result[i][j]==test_label[i][j]:\n",
        "      count+=1\n",
        "    \n",
        "    \n",
        "     \n",
        "#print (result[0][1]==test_label[0][1])\n",
        "      \n",
        "print(\"total number of 0 in test label is:\", zero_count)\n",
        "print(\"total number of token to be labelled is\", total)\n",
        "print(\"accuracy if alwasy guess 0 is:\", zero_count/total)\n",
        "\n",
        "print(\"total number of when preict and test is the same is:\", count)\n",
        "total=32*32\n",
        "\n",
        "\n",
        "\n",
        "print(\"accuracy is\", count/total)"
      ],
      "execution_count": 0,
      "outputs": [
        {
          "output_type": "stream",
          "text": [
            "total number of 0 in test label is: 994\n",
            "total number of token to be labelled is 1024\n",
            "accuracy if alwasy guess 0 is: 0.970703125\n",
            "total number of when preict and test is the same is: 945\n",
            "accuracy is 0.9228515625\n"
          ],
          "name": "stdout"
        }
      ]
    },
    {
      "cell_type": "code",
      "metadata": {
        "id": "RGYnyzZ0Jq9o",
        "colab_type": "code",
        "outputId": "85c83c6d-3ec9-4530-822e-65585e66feb3",
        "colab": {
          "base_uri": "https://localhost:8080/",
          "height": 35
        }
      },
      "source": [
        "print(test_labels[62])"
      ],
      "execution_count": 0,
      "outputs": [
        {
          "output_type": "stream",
          "text": [
            "[0 0 0 0 0 0 0 0 0 0 0 0 0 0 0 0 0 0 0 0 0 0 0 0 0 0 0 0 0 0 0 0]\n"
          ],
          "name": "stdout"
        }
      ]
    },
    {
      "cell_type": "code",
      "metadata": {
        "id": "LRXWzhb95K5o",
        "colab_type": "code",
        "colab": {}
      },
      "source": [
        "pred=[[0,0,0,1,2,3,4,5,5,0],[1,4,2,3,0,0,0,0,0,0]]\n",
        "golden=[[1,1,1,5,5,6,2,0,0,0],[0,0,0,0,2,3,4,2,4,0]]\n",
        "\n",
        "def precision(predict, golden):\n",
        "  '''We use the exact match approach as explained in this post: https://stackoverflow.com/questions/1783653/computing-precision-and-recall-in-named-entity-recognition'''\n",
        "  TP=[]\n",
        "  \n",
        "  "
      ],
      "execution_count": 0,
      "outputs": []
    }
  ]
}